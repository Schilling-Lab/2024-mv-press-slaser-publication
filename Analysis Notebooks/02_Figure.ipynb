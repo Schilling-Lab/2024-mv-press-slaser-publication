{
 "cells": [
  {
   "cell_type": "code",
   "execution_count": null,
   "id": "256ba6f2-1ed3-4dbf-acaa-f1c8292d6445",
   "metadata": {
    "tags": []
   },
   "outputs": [],
   "source": [
    "import hypermri\n",
    "import hypermri.utils.utils_anatomical as ut_anat\n",
    "import sys\n",
    "\n",
    "import os\n",
    "import seaborn as sns\n",
    "import pandas as pd\n",
    "import matplotlib.pyplot as plt\n",
    "import ipywidgets as widgets\n",
    "import numpy as np\n",
    "import pandas as pd\n",
    "import datetime\n",
    "\n",
    "from scipy.optimize import curve_fit \n",
    "import matplotlib\n",
    "\n",
    "\n",
    "from hypermri.utils.utils_sv_spectroscopy import Plot_Voxel_on_Anat\n",
    "# Autoreload extension so that you dont have to reload the kernel every time something is changed in the hypermri or magritek folders\n",
    "%load_ext autoreload\n",
    "%autoreload 2\n",
    "\n",
    "%matplotlib widget\n",
    "\n",
    "def get_colors_from_cmap(cmap_name, N):\n",
    "    cmap = plt.get_cmap(cmap_name)\n",
    "    colors = cmap(np.linspace(0, 1, N))\n",
    "    return colors\n",
    "\n",
    "\n",
    "from matplotlib import rc\n",
    "rc(\"font\", **{\"family\": \"serif\", \"serif\": [\"Computer Modern\"]})\n",
    "rc(\"text\", usetex=True)\n",
    "matplotlib.rcParams.update({\"font.size\": 11})\n",
    "import hypermri\n"
   ]
  },
  {
   "cell_type": "markdown",
   "id": "abb853b1-ab77-4d18-805c-5f9695ee72d1",
   "metadata": {},
   "source": [
    "### Load data"
   ]
  },
  {
   "cell_type": "code",
   "execution_count": null,
   "id": "bf72d9ec-050c-4ce3-b191-0c0e95beb830",
   "metadata": {
    "tags": []
   },
   "outputs": [],
   "source": [
    "# define scan path to folder where measurements are\n",
    "dirpath = ''\n",
    "scans = hypermri.BrukerDir(dirpath)"
   ]
  },
  {
   "cell_type": "code",
   "execution_count": null,
   "id": "6579ebed-a228-4275-b901-3f9693cb5167",
   "metadata": {
    "tags": []
   },
   "outputs": [],
   "source": [
    "figuresize=6.9"
   ]
  },
  {
   "cell_type": "code",
   "execution_count": null,
   "id": "cbb61919-ce04-46bd-931a-c02a4a20e1e4",
   "metadata": {
    "tags": []
   },
   "outputs": [],
   "source": [
    "sv_press=[scans[n] for n in range(13,18,1)]\n",
    "mvslaser_self_optimal = scans[11]\n",
    "mvpress = scans[12]\n",
    "mvslaser_bruker=scans[10]"
   ]
  },
  {
   "cell_type": "markdown",
   "id": "46d668bb-9882-4f2d-8031-7667429afa09",
   "metadata": {
    "tags": []
   },
   "source": [
    "# Plot spectra"
   ]
  },
  {
   "cell_type": "code",
   "execution_count": null,
   "id": "8d4ddc44-3bef-4f47-9bc5-89fa76572bc4",
   "metadata": {
    "tags": []
   },
   "outputs": [],
   "source": [
    "plt.close('all')\n",
    "fig,ax=plt.subplots(2,2,figsize=(figuresize/1.5,figuresize/2),tight_layout=True)\n",
    "\n",
    "offset=3.37\n",
    "voxel_pos = ['Water','Oil','Ethanol','Outside']\n",
    "colors=['C0','C1','C2','C3']\n",
    "letters=['A','B','C','D']\n",
    "ppm_slaser=hypermri.utils.utils_spectroscopy.get_freq_axis(mvslaser_self_optimal)\n",
    "ppm_press=hypermri.utils.utils_spectroscopy.get_freq_axis(mvpress)\n",
    "\n",
    "for voxel in range(4):\n",
    "    nx,ny=voxel//2,voxel%2\n",
    "    noise_std_slaser=np.std(np.abs(np.squeeze(mvslaser_self_optimal.complex_spec[0:100,voxel])))\n",
    "    noise_std_press=np.std(np.abs(np.squeeze(mvpress.complex_spec[0:100,voxel])))\n",
    "    \n",
    "    color=colors[voxel]\n",
    "    ax[nx,ny].plot(ppm_slaser-offset,np.abs(np.squeeze(mvslaser_self_optimal.complex_spec[:,voxel]))/noise_std_slaser,label='MV-sLASER',color='r')\n",
    "    ax[nx,ny].plot(ppm_press-offset,np.abs(np.squeeze(mvpress.complex_spec[:,voxel]))/noise_std_press,color='k',linestyle='solid',label='MV-PRESS')\n",
    "    ax[nx,ny].set_xlim([6,-1])\n",
    "\n",
    "    ax[nx,ny].set_title(letters[voxel],loc='left')\n",
    "\n",
    "    \n",
    "ax[0,0].set_xticks([])\n",
    "ax[0,1].set_xticks([])\n",
    "[ax[1,n].set_xlabel(r'$\\sigma $[ppm]') for n in range(2)]\n",
    "\n",
    "ax[0,0].set_ylabel('SNR')\n",
    "ax[1,0].set_ylabel('SNR')\n",
    "\n",
    "ax[0,0].set_yticks([0,3000])\n",
    "ax[0,1].set_yticks([0,1000])\n",
    "ax[0,1].set_ylim([-40,1300])\n",
    "ax[1,0].set_ylim([-40,650])\n",
    "ax[1,1].set_ylim([-2,32])\n",
    "\n",
    "ax[1,0].set_yticks([0,500])\n",
    "ax[1,1].set_yticks([0,25])\n",
    "ax[1,1].legend(fontsize=9)\n",
    "fig.subplots_adjust(wspace=0,hspace=0)"
   ]
  },
  {
   "cell_type": "code",
   "execution_count": null,
   "id": "5e9c97c6-149e-42d0-85d5-fabbea73086f",
   "metadata": {
    "tags": []
   },
   "outputs": [],
   "source": [
    "fig,ax=plt.subplots(2,1,figsize=(2.56,figuresize/2),tight_layout=True)\n",
    "\n",
    "\n",
    "ppm_slaser=hypermri.utils.utils_spectroscopy.get_freq_axis(mvslaser_self_optimal)\n",
    "ppm_press=hypermri.utils.utils_spectroscopy.get_freq_axis(mvpress)\n",
    "\n",
    "for voxel in [0,1]:\n",
    "    max_peak_slaser=np.max(np.abs(np.squeeze(mvslaser_self_optimal.complex_spec[:,voxel])))\n",
    "    max_peak_press=np.max(np.abs(np.squeeze(mvpress.complex_spec[:,voxel])))\n",
    "    \n",
    "    ax[voxel].plot(ppm_slaser-offset,np.abs(np.squeeze(mvslaser_self_optimal.complex_spec[:,voxel]))/max_peak_slaser,label='MV-sLASER',color='r')\n",
    "    ax[voxel].plot(ppm_press-offset,np.abs(np.squeeze(mvpress.complex_spec[:,voxel]))/max_peak_press,color='k',linestyle='solid',label='MV-PRESS')\n",
    "\n",
    "    ax[voxel].set_ylabel(r'$I_{norm}$ [a.u.]')\n",
    "    ax[voxel].set_yticks([0,1])\n",
    "    \n",
    "ax[0].set_xlim([7,2])\n",
    "ax[0].set_ylim([-0.002,0.0385])\n",
    "\n",
    "ax[1].set_xlim([3,-0.3])\n",
    "ax[1].set_ylim([-0.01,0.211])\n",
    "ax[1].set_xlabel(r'$\\sigma $[ppm]')\n",
    "ax[0].set_yticks([0,0.03])\n",
    "ax[1].set_yticks([0,0.2])\n"
   ]
  },
  {
   "cell_type": "markdown",
   "id": "26bd31b7-5b96-42ac-93f7-06c4ba0b7cac",
   "metadata": {
    "tags": []
   },
   "source": [
    "# Plot voxel positions"
   ]
  },
  {
   "cell_type": "code",
   "execution_count": null,
   "id": "490a01cc-75c6-4d08-9ac8-ae10d132a63c",
   "metadata": {
    "tags": []
   },
   "outputs": [],
   "source": [
    "axial=scans[5]\n",
    "coronal=scans[6]"
   ]
  },
  {
   "cell_type": "code",
   "execution_count": null,
   "id": "e2309873-c780-4a3e-a177-f5f8166644eb",
   "metadata": {
    "tags": []
   },
   "outputs": [],
   "source": [
    "fig,ax=plt.subplots(2,2,tight_layout=True,figsize=(figuresize/2,figuresize/2))\n",
    "\n",
    "Plot_Voxel_on_Anat(mvslaser_self_optimal,axial,ax[0,0],0)\n",
    "Plot_Voxel_on_Anat(mvslaser_self_optimal,axial,ax[0,1],1)\n",
    "Plot_Voxel_on_Anat(mvslaser_self_optimal,axial,ax[1,0],2)\n",
    "Plot_Voxel_on_Anat(mvslaser_self_optimal,axial,ax[1,1],3)\n",
    "\n",
    "ax[0,0].set_title('water')\n",
    "ax[0,1].set_title('oil')\n",
    "ax[1,0].set_title('ethanol')\n",
    "ax[1,1].set_title('outside')\n",
    "\n",
    "\n",
    "ax[0,0].axis('off')\n",
    "ax[1,0].axis('off')\n",
    "ax[0,1].axis('off')\n",
    "ax[1,1].axis('off')"
   ]
  },
  {
   "cell_type": "markdown",
   "id": "d5604917-2eea-4a1d-8949-cf980ccddaa6",
   "metadata": {},
   "source": [
    "# Plot slice profile data"
   ]
  },
  {
   "cell_type": "code",
   "execution_count": null,
   "id": "b226e248-ae1b-42ee-98c5-64bf84e684f1",
   "metadata": {
    "tags": []
   },
   "outputs": [],
   "source": [
    "# define scan path\n",
    "dirpath = basepath + ''\n",
    "scans = hypermri.BrukerDir(dirpath,verbose=True)\n",
    "axial=scans[5]"
   ]
  },
  {
   "cell_type": "code",
   "execution_count": null,
   "id": "6c282539-6485-47a3-b59f-7676707fb7e0",
   "metadata": {
    "tags": []
   },
   "outputs": [],
   "source": [
    "slaser_slic_prof=scans[11] # 5mm\n",
    "press_slic_prof=scans[9] # 5mm"
   ]
  },
  {
   "cell_type": "code",
   "execution_count": null,
   "id": "f465fe6b-a167-4000-972d-3609dcce42a0",
   "metadata": {},
   "outputs": [],
   "source": [
    "plt.close('all')\n",
    "fig,ax=plt.subplots(2,2,tight_layout=True,figsize=(figuresize/2,figuresize/2))\n",
    "\n",
    "ax[0,0].set_title('PRESS')\n",
    "ax[1,0].set_title('sLASER')\n",
    "for n in range(0,2,1):\n",
    "    ax[n,0].set_xlim([-5,5])\n",
    "    ax[n,0].set_ylim([-5,5])\n",
    "    ax[n,1].set_xlim([-5,5])\n",
    "width_press = press_slic_prof.method['PVM_SliceThick']\n",
    "width_slaser = slaser_slic_prof.method['PVM_SliceThick']\n",
    "\n",
    "\n",
    "print(width_press,width_slaser)\n",
    "fov=press_slic_prof.method['PVM_Fov'][0]\n",
    "ax[0,0].imshow(press_slic_prof.seq2d,extent=press_slic_prof.get_extent('main'),cmap='magma')\n",
    "ax[1,1].plot(np.linspace(-fov/2,fov/2,140),np.mean(press_slic_prof.seq2d[:,:,0],axis=1)/np.max(np.mean(press_slic_prof.seq2d[:,:,0],axis=1)),label='PRESS',color='k')\n",
    "ax[0,1].plot(np.linspace(-fov/2,fov/2,140),np.mean(press_slic_prof.seq2d[:,:,0],axis=0)/np.max(np.mean(press_slic_prof.seq2d[:,:,0],axis=0)),label='PRESS',color='k')\n",
    "\n",
    "rect = Rectangle((-width_press/2,-width_press/2),width_press,width_press,fc='None',ec='w')\n",
    "ax[0,0].add_patch(rect)\n",
    "\n",
    "ax[1,0].imshow(slaser_slic_prof.seq2d,extent=slaser_slic_prof.get_extent('main'),cmap='magma')\n",
    "ax[1,1].plot(np.linspace(-fov/2,fov/2,140),np.mean(slaser_slic_prof.seq2d[:,:,0],axis=1)/np.max(np.mean(slaser_slic_prof.seq2d[:,:,0],axis=1)),label='sLASER',color='r')\n",
    "ax[0,1].plot(np.linspace(-fov/2,fov/2,140),np.mean(slaser_slic_prof.seq2d[:,:,0],axis=0)/np.max(np.mean(slaser_slic_prof.seq2d[:,:,0],axis=0)),label='sLASER',color='r')\n",
    "\n",
    "rect = Rectangle((-width_slaser/2,-width_slaser/2),width_slaser,width_slaser,fc='None',ec='w')\n",
    "ax[1,0].add_patch(rect)\n",
    "\n",
    "#ax[0,0].set_yticks([])\n",
    "#ax[1,0].set_yticks([])\n",
    "ax[1,1].set_yticks([0,1])\n",
    "ax[0,1].set_yticks([0,1])\n",
    "\n",
    "ax[1,0].set_xlabel('mm')\n",
    "ax[1,1].set_xlabel('mm')\n",
    "ax[0,0].set_ylabel('mm')\n",
    "ax[1,0].set_ylabel('mm')\n",
    "\n",
    "\n",
    "ax[0,1].set_ylabel('I [a.u.]')\n",
    "ax[1,1].set_ylabel('I [a.u.]')\n",
    "\n",
    "ax[0,1].legend(fontsize=8)\n",
    "ax[1,1].legend(fontsize=8)\n",
    "\n"
   ]
  }
 ],
 "metadata": {
  "kernelspec": {
   "display_name": "Python 3 (ipykernel)",
   "language": "python",
   "name": "python3"
  },
  "language_info": {
   "codemirror_mode": {
    "name": "ipython",
    "version": 3
   },
   "file_extension": ".py",
   "mimetype": "text/x-python",
   "name": "python",
   "nbconvert_exporter": "python",
   "pygments_lexer": "ipython3",
   "version": "3.9.7"
  }
 },
 "nbformat": 4,
 "nbformat_minor": 5
}
