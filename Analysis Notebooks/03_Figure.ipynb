{
 "cells": [
  {
   "cell_type": "code",
   "execution_count": null,
   "id": "6f632b23-3467-4af7-b59b-79cb8d589688",
   "metadata": {
    "tags": []
   },
   "outputs": [],
   "source": [
    "import hypermri\n",
    "import hypermri.utils.utils_anatomical as ut_anat\n",
    "import hypermri.utils.utils_general as utg\n",
    "import sys\n",
    "\n",
    "import os\n",
    "import seaborn as sns\n",
    "import pandas as pd\n",
    "import matplotlib.pyplot as plt\n",
    "import ipywidgets as widgets\n",
    "import numpy as np\n",
    "import pandas as pd\n",
    "import datetime\n",
    "import math\n",
    "from scipy.optimize import curve_fit \n",
    "import matplotlib\n",
    "from matplotlib.patches import Rectangle\n",
    "\n",
    "from hypermri.utils.utils_sv_spectroscopy import Plot_Voxel_on_Anat\n",
    "\n",
    "\n",
    "def get_colors_from_cmap(cmap_name, N):\n",
    "    cmap = plt.get_cmap(cmap_name)\n",
    "    colors = cmap(np.linspace(0, 1, N))\n",
    "    return colors\n",
    "\n",
    "\n",
    "from matplotlib import rc\n",
    "rc(\"font\", **{\"family\": \"serif\", \"serif\": [\"Computer Modern\"]})\n",
    "rc(\"text\", usetex=True)\n",
    "matplotlib.rcParams.update({\"font.size\": 11})\n",
    "\n",
    "from Template import import_paths\n",
    "\n",
    "basepath,savepath,publication_path=import_paths()\n",
    "\n",
    "basepath=os.path.dirname(os.path.dirname(basepath))+'/2022/'\n",
    "print(basepath)\n",
    "# Autoreload extension so that you dont have to reload the kernel every time something is changed in the hypermri or magritek folders\n",
    "%load_ext autoreload\n",
    "%autoreload 2\n",
    "\n",
    "%matplotlib widget"
   ]
  },
  {
   "cell_type": "code",
   "execution_count": null,
   "id": "d29230c5-a4ad-4ed6-8b52-3335d3876ec7",
   "metadata": {
    "tags": []
   },
   "outputs": [],
   "source": [
    "figsize=6.9"
   ]
  },
  {
   "cell_type": "markdown",
   "id": "8e4f39c8-9676-46bb-9099-b58223887367",
   "metadata": {
    "tags": []
   },
   "source": [
    "# 1. In vitro comparison CSI PRESS"
   ]
  },
  {
   "cell_type": "code",
   "execution_count": null,
   "id": "2dcb50a3-edfc-4885-9555-e74035402dbc",
   "metadata": {
    "tags": []
   },
   "outputs": [],
   "source": [
    "# define scan path\n",
    "dirpath = basepath + '/'\n",
    "ID='PyruvateSphere'\n",
    "scans=hypermri.BrukerDir(dirpath,verbose=False)\n",
    "coronal=scans[81]\n",
    "sagittal=scans[82]\n",
    "axial=scans[83]\n",
    "\n",
    "axial_press=scans[94]\n",
    "sagit_press=scans[95]\n",
    "coronal_press = scans[92]\n",
    "\n",
    "mv_press=scans[90]\n",
    "sp2_press=scans[96]\n",
    "csi_ref_img=scans[89]\n",
    "sp2_csi=scans[77]\n",
    "csi=scans[78]"
   ]
  },
  {
   "cell_type": "markdown",
   "id": "3ac4986d-33de-4bab-817b-d87cc713a560",
   "metadata": {
    "jp-MarkdownHeadingCollapsed": true,
    "tags": []
   },
   "source": [
    "## 1.3 Plot Proton reference and CSI SNR map"
   ]
  },
  {
   "cell_type": "code",
   "execution_count": null,
   "id": "7b3c9cbd-4332-4d60-9c0a-8668a7006348",
   "metadata": {
    "tags": []
   },
   "outputs": [],
   "source": [
    "def FT_kspace_csi(csi, k_space, LB=0, cut_off=0):\n",
    "    ac_time = csi.method[\"PVM_SpecAcquisitionTime\"]\n",
    "    ac_points = csi.method[\"PVM_SpecMatrix\"]\n",
    "    time_ax = np.linspace(0, ac_time, ac_points) / 1000\n",
    "    n_vox = csi.method[\"PVM_NVoxels\"]\n",
    "\n",
    "    time_ax = np.linspace(0, ac_time, ac_points - cut_off) / 1000\n",
    "    sigma = 2 * np.pi * LB\n",
    "    ft_once = np.fft.fftshift(\n",
    "        np.fft.fft(np.fft.fftshift(k_space, axes=(1,)), axis=1), axes=(1,)\n",
    "    )\n",
    "    ft_twice = np.fft.fftshift(\n",
    "        np.fft.fft(np.fft.fftshift(ft_once, axes=(2,)), axis=2), axes=(2,)\n",
    "    )\n",
    "    ft_for_spec =  np.fft.fftshift(\n",
    "            np.fft.fft(\n",
    "                np.fft.fftshift(ft_twice * np.exp(-sigma * time_ax)[:,None,None], axes=(0,)),\n",
    "                axis=0,\n",
    "            ),\n",
    "            axes=(0,),\n",
    "        )\n",
    "    \n",
    "    return ft_for_spec\n",
    "    \n",
    "def reco_CSI(csi,cut_off=0,LB=0):\n",
    "    enc_order = csi.method[\"PVM_EncOrder\"]\n",
    "    fidsz = csi.method[\"PVM_SpecMatrix\"]\n",
    "    tsz = csi.method[\"PVM_NRepetitions\"]\n",
    "    ysz = csi.method[\"PVM_Matrix\"][1]\n",
    "    xsz = csi.method[\"PVM_Matrix\"][0]\n",
    "    zsz = 1\n",
    "    y_indices = csi.method[\"PVM_EncSteps1\"] + math.floor(ysz / 2.0)\n",
    "    x_indices = csi.method[\"PVM_EncSteps0\"] + math.floor(xsz / 2.0)\n",
    "    old_matrix_coords = np.zeros((ysz, xsz))\n",
    "    c = 0\n",
    "\n",
    "    for ny in y_indices:\n",
    "        for nx in x_indices:\n",
    "            old_matrix_coords[ny, nx] = c\n",
    "            c += 1\n",
    "    get_fids = []\n",
    "    for n in np.arange(0, csi.rawdatajob0.shape[0], fidsz):\n",
    "        get_fids.append(csi.rawdatajob0[cut_off + n : n + fidsz])\n",
    "    fidsz = fidsz - cut_off\n",
    "    get_fids = np.array(get_fids)\n",
    "\n",
    "    k_space_array = np.zeros_like(csi.seq2d[cut_off:, :, :, 0],\n",
    "                                  dtype=np.complex128)\n",
    "\n",
    "    for idx in np.arange(0, get_fids.shape[0], 1):\n",
    "        placement_idx = np.where(old_matrix_coords == idx)\n",
    "        nx = placement_idx[1][0]\n",
    "        ny = placement_idx[0][0]\n",
    "        k_space_array[:, ny, nx] = (get_fids[int(idx), :])\n",
    "\n",
    "    shift_x = (\n",
    "        -csi.method[\"PVM_Phase0Offset\"]\n",
    "        * csi.method[\"PVM_Matrix\"][0]\n",
    "        / csi.method[\"PVM_Fov\"][0]\n",
    "    )\n",
    "    shift_y = (\n",
    "        -csi.method[\"PVM_Phase1Offset\"]\n",
    "        * csi.method[\"PVM_Matrix\"][1]\n",
    "        / csi.method[\"PVM_Fov\"][1]\n",
    "    )\n",
    "    Wx_1d = np.exp(\n",
    "        (1j * 2 * np.pi * np.linspace(0, xsz, xsz) * shift_x) / xsz\n",
    "    )\n",
    "    Wx = np.tile(Wx_1d.T, [fidsz, ysz, 1])\n",
    "    Wy_1d = np.exp(\n",
    "        (1j * 2 * np.pi * np.linspace(0, ysz, ysz) * shift_y) / ysz\n",
    "    )\n",
    "    # make 1D array into a 2D one using tile\n",
    "    Wy = np.tile(Wy_1d.T, [fidsz, xsz, 1])\n",
    "    Wx = np.transpose(Wx, [0, 1, 2])\n",
    "    Wy = np.transpose(Wy, [0, 2, 1])\n",
    "    ordered_k_space = np.flip(np.flip((k_space_array * Wx) * Wy,1),2)\n",
    "    shifted_final = np.flip(FT_kspace_csi(csi,ordered_k_space, cut_off=cut_off, LB=LB),axis=0) # for reco fixing\n",
    "    unshifted_final = FT_kspace_csi(csi,\n",
    "        k_space_array, cut_off=cut_off, LB=LB)\n",
    "    return shifted_final"
   ]
  },
  {
   "cell_type": "markdown",
   "id": "d4653b6c-55f7-406f-85c2-c3720709ecda",
   "metadata": {},
   "source": [
    "### Perform complex reco"
   ]
  },
  {
   "cell_type": "code",
   "execution_count": null,
   "id": "02e6f0d1-3406-4947-87c1-2343b55e7a18",
   "metadata": {
    "tags": []
   },
   "outputs": [],
   "source": [
    "complex_csi_reco=reco_CSI(csi,cut_off=70)"
   ]
  },
  {
   "cell_type": "markdown",
   "id": "9b254252-dcca-46ff-bdcf-5f3a9a4e1762",
   "metadata": {},
   "source": [
    "### Get extents for plots"
   ]
  },
  {
   "cell_type": "code",
   "execution_count": null,
   "id": "4c5e15b2-c086-438f-9720-e85a43087041",
   "metadata": {
    "tags": []
   },
   "outputs": [],
   "source": [
    "_,  sag_ext, _   = utg.get_extent(data_obj=csi_ref_img)\n",
    "_,csi_ext, _   = utg.get_extent(data_obj=csi)"
   ]
  },
  {
   "cell_type": "markdown",
   "id": "fb8da436-703d-4ba6-aa57-88ee386114c3",
   "metadata": {},
   "source": [
    "### Compute SNR map of CSI"
   ]
  },
  {
   "cell_type": "code",
   "execution_count": null,
   "id": "b186fefc-666c-40aa-a52e-71677586edd9",
   "metadata": {
    "tags": []
   },
   "outputs": [],
   "source": [
    "csi_snr_map=np.zeros_like((complex_csi_reco[0,:,:]),dtype=float)\n",
    "csi_normed_snr = np.zeros_like((complex_csi_reco),dtype=float)\n",
    "bg_mean_map=np.zeros_like(csi_snr_map)\n",
    "bg_std_map=np.zeros_like(csi_snr_map)\n",
    "\n",
    "for n in range(csi_snr_map.shape[0]):\n",
    "    for m in range(csi_snr_map.shape[1]):\n",
    "        bg_mean= np.mean(np.abs(complex_csi_reco[0:50,n,m]))\n",
    "        bg_std = np.std(np.abs(complex_csi_reco[0:50,n,m]))\n",
    "        bg_mean_map[n,m]=bg_mean\n",
    "        bg_std_map[n,m]=bg_std\n",
    "        \n",
    "        csi_snr_map[n,m] = np.max((np.abs(complex_csi_reco[:,n,m])-bg_mean)/bg_std)\n",
    "        \n",
    "        csi_normed_snr[:,n,m]=((np.abs(complex_csi_reco[:,n,m])-bg_mean)/bg_std)"
   ]
  },
  {
   "cell_type": "code",
   "execution_count": null,
   "id": "80683c18-cfca-4d2b-b420-691ac1bb5d68",
   "metadata": {
    "tags": []
   },
   "outputs": [],
   "source": [
    "fig,ax=plt.subplots(4,tight_layout=True)\n",
    "im1=ax[0].imshow(bg_mean_map)\n",
    "im2=ax[1].imshow(bg_std_map)\n",
    "im3=ax[2].imshow(np.sum(np.abs(complex_csi_reco),axis=0))\n",
    "ax[0].set_title('Mean of background')\n",
    "ax[1].set_title('Std of background')\n",
    "ax[2].set_title('Intensity')\n",
    "\n",
    "fig.colorbar(im1,ax=ax[0],label='I [a.u.]')\n",
    "fig.colorbar(im2,ax=ax[1],label='I [a.u.]')\n",
    "fig.colorbar(im3,ax=ax[2],label='I [a.u.]')\n",
    "\n",
    "ax[3].imshow(csi_snr_map)"
   ]
  },
  {
   "cell_type": "code",
   "execution_count": null,
   "id": "d316f2cb-7c36-4f03-981c-7eba4069b2de",
   "metadata": {
    "tags": []
   },
   "outputs": [],
   "source": [
    "plt.close('all')\n",
    "fig,ax=plt.subplots(1,2,figsize=(figsize/2,figsize/4),tight_layout=True)\n",
    "ax[0].imshow(csi_ref_img.seq2d[:,:,1].T,cmap='gray',extent=sag_ext)\n",
    "\n",
    "snr_map=ax[1].imshow(csi_snr_map.T,extent=csi_ext,cmap='magma')\n",
    "\n",
    "\n",
    "for n in range(2):\n",
    "    ax[n].axis('off')\n",
    "    \n",
    "fig.colorbar(snr_map,ax=ax[1],label='SNR',ticks=[500,1000,1500])\n",
    "\n",
    "\n",
    "ax[0].hlines(-13.5,8.5,3.5,linewidth=3,color='w')\n",
    "ax[0].text(8,-12.5,'5mm',color='w',fontsize=8)"
   ]
  },
  {
   "cell_type": "code",
   "execution_count": null,
   "id": "4eb512ff-922c-436b-8c5b-22c4198040e4",
   "metadata": {},
   "outputs": [],
   "source": [
    "plt.close('all')\n",
    "fig,ax=plt.subplots(1,2,figsize=(figsize/2,figsize/4),tight_layout=True)\n",
    "ax[0].imshow(csi_ref_img.seq2d[:,:,1].T,cmap='gray',extent=sag_ext)\n",
    "\n",
    "snr_map=ax[1].imshow(np.sum(csi.seq2d,axis=0).squeeze().T,extent=csi_ext,cmap='magma')\n",
    "\n",
    "\n",
    "for n in range(2):\n",
    "    ax[n].axis('off')\n",
    "    \n",
    "fig.colorbar(snr_map,ax=ax[1],label='I [a.u.]')\n",
    "\n",
    "\n",
    "ax[0].hlines(-13.5,8.5,3.5,linewidth=3,color='w')\n",
    "ax[0].text(8,-12.5,'5mm',color='w',fontsize=8)"
   ]
  },
  {
   "cell_type": "code",
   "execution_count": null,
   "id": "882fe4a2-799a-4e7e-baee-09a7b95e1841",
   "metadata": {},
   "outputs": [],
   "source": []
  },
  {
   "cell_type": "markdown",
   "id": "636d262c-6caf-4d60-8d94-63fd1f800086",
   "metadata": {
    "jp-MarkdownHeadingCollapsed": true,
    "tags": []
   },
   "source": [
    "## 1.4 Plot spectra"
   ]
  },
  {
   "cell_type": "code",
   "execution_count": null,
   "id": "fb4264c3-d0d8-46ca-8477-5cd9326f0e71",
   "metadata": {
    "tags": []
   },
   "outputs": [],
   "source": [
    "nx=4\n",
    "ny=8\n",
    "ppm_csi=csi.get_ppm(70)\n",
    "spec_press=np.abs(np.fft.fftshift(np.fft.fft(np.squeeze(mv_press.complex_fids[70:,0]))))\n",
    "ppm_press=mv_press.get_ppm(70)\n",
    "ppm_sp_press=sp2_press.get_ppm(70)\n",
    "spec_sp_press = np.abs(sp2_press.complex_spec)\n",
    "\n",
    "ppm_sp_csi=sp2_csi.get_ppm(70)\n",
    "spec_sp_csi = np.abs(sp2_csi.complex_spec)\n",
    "\n",
    "csi_snr_raw=np.max(csi_normed_snr[:,nx,ny])\n",
    "\n",
    "press_normed_snr=(spec_press-np.mean(spec_press[0:50]))/np.std(spec_press[0:50])\n",
    "press_snr_raw = np.max(press_normed_snr)\n",
    "\n",
    "print(csi_snr_raw,'CSI SNR')\n",
    "print(press_snr_raw,'PRESS SNR')"
   ]
  },
  {
   "cell_type": "code",
   "execution_count": null,
   "id": "aa9e88ad-9e77-411f-af76-5028695ab5b8",
   "metadata": {},
   "outputs": [],
   "source": []
  },
  {
   "cell_type": "code",
   "execution_count": null,
   "id": "11edc112-61ba-44f4-8312-603ba7ebfae0",
   "metadata": {},
   "outputs": [],
   "source": []
  },
  {
   "cell_type": "code",
   "execution_count": null,
   "id": "64866768-2a6d-4d49-be0b-f863c21ccb34",
   "metadata": {
    "tags": []
   },
   "outputs": [],
   "source": [
    "fig,ax=plt.subplots(1,figsize=(figsize/2,figsize/3),tight_layout=True)\n",
    "ax.plot(ppm_csi,np.flip(csi_normed_snr[:,nx,ny]),label='CSI',color='k')\n",
    "ax.plot(ppm_press,press_normed_snr,label='PRESS',color='r')\n",
    "ax.set_xlim([174,168])\n",
    "ax.set_yticks([0,500,1000,1500])\n",
    "ax.legend()\n",
    "ax.set_ylabel('SNR')\n",
    "ax.set_xticks([174,171,168])\n",
    "ax.set_xlabel(r'$\\sigma$ [ppm]')\n"
   ]
  },
  {
   "cell_type": "code",
   "execution_count": null,
   "id": "ae9c202c-5afa-4782-b50d-7e1f57300da0",
   "metadata": {
    "tags": []
   },
   "outputs": [],
   "source": [
    "fig,ax=plt.subplots(1,figsize=(figsize/2,figsize/3),tight_layout=True)\n",
    "ax.plot(ppm_csi,np.flip(csi_normed_snr[:,nx,ny]),label='CSI',color='k')\n",
    "ax.plot(ppm_press,press_normed_snr,label='PRESS',color='r')\n",
    "ax.set_xlim([156,159])\n",
    "#ax.set_ylim([-4,4])\n",
    "ax.set_yticks([])\n",
    "ax.legend()\n",
    "ax.set_xlabel(r'$\\sigma$ [ppm]')\n"
   ]
  },
  {
   "cell_type": "markdown",
   "id": "b4e3d64c-12de-4999-96bc-b4b38be5b8f3",
   "metadata": {
    "tags": []
   },
   "source": [
    "# 2. SNR analysis of in vivo measurement"
   ]
  },
  {
   "cell_type": "markdown",
   "id": "0339c12c-2293-47d6-90f7-d960ad3c1800",
   "metadata": {
    "tags": []
   },
   "source": [
    "## Measure MV-PRESS and CSI in same region to compare SNR in vivo in a PDAC animal using Hyperpolarized 13C Pyruvate "
   ]
  },
  {
   "cell_type": "code",
   "execution_count": null,
   "id": "c5662652-d14c-4726-acbe-38a57b793944",
   "metadata": {
    "tags": []
   },
   "outputs": [],
   "source": [
    "dirpath2=basepath+'/'\n",
    "\n",
    "scans2=hypermri.BrukerDir(dirpath2)"
   ]
  },
  {
   "cell_type": "code",
   "execution_count": null,
   "id": "025a4056-51cf-4b78-be65-03b49f7846bb",
   "metadata": {
    "tags": []
   },
   "outputs": [],
   "source": [
    "animal=''\n",
    "coronal=scans2[6] \n",
    "axial=scans2[8]\n",
    "mv_press=scans2[24]\n",
    "t2w_csi=scans2[35]\n",
    "sp2_press=scans2[25]\n",
    "csi = hypermri.BrukerExp(dirpath2+'31/')\n",
    "sp2_csi=scans2[30]\n",
    "sp90_press=scans2[26]\n",
    "sp90_csi=scans2[33]\n",
    "# name the positions where we have put PRESS Muscle\n",
    "vox_names=['Kidney','Tumor','Kidney','Liver','Muscle']"
   ]
  },
  {
   "cell_type": "markdown",
   "id": "2f6f091c-aa3c-4c03-8011-745ba6bcc3a7",
   "metadata": {
    "tags": []
   },
   "source": [
    "## 2.1 Plot Coronal and axial images with PRESS voxel and CSI overlayed"
   ]
  },
  {
   "cell_type": "code",
   "execution_count": null,
   "id": "83e328d3-8c90-4718-95bc-a27897d9f79a",
   "metadata": {
    "tags": []
   },
   "outputs": [],
   "source": [
    "# add csi patch to coronal\n",
    "fov_csi = csi.method[\"PVM_Fov\"]\n",
    "fov_cor = coronal.method[\"PVM_Fov\"]\n",
    "\n",
    "slice_thick = csi.method[\"PVM_SliceThick\"]\n",
    "# first find out what way the CSI slice is positioned\n",
    "rot_matrix = csi.method[\n",
    "    \"PVM_SPackArrGradOrient\"\n",
    "]  # rotated slice in axial direction around y axis\n",
    "# rotmatrix is a matrix of form (cos(a) 0 sin a)\n",
    "#                               (0.     1.  0)\n",
    "#                               (-sin a  0.   cos a)\n",
    "# so to find alpha we need to arccos(rot_matrix[0][0][0])*180/pi ---> 36.137°\n",
    "rot_angle = np.arccos(rot_matrix[0][0][0])\n",
    "offset = csi.method[\n",
    "    \"PVM_SPackArrSliceOffset\"\n",
    "]  # offset of center of slice from (0,0,0)\n",
    "orient = csi.method[\"PVM_SPackArrSliceOrient\"]  # axial\n",
    "\n",
    "# now we need to change the coordinate system from the center of the rectangle to the edge /this is a bit too\n",
    "# much work i know, but i did it that way\n",
    "s = slice_thick #/ np.sin(rot_angle)\n",
    "\n",
    "\n",
    "df = np.sqrt(s**2 - slice_thick**2)\n",
    "eps = (df + fov_csi[0] / 2.0) * np.sin(rot_angle)\n",
    "\n",
    "phi = (df + fov_csi[0] / 2.0) * np.cos(rot_angle)\n",
    "\n",
    "# now we need to fogure out what the coordinates of the bottom left point of the rectangle visualizing the CSI are\n",
    "# some geometric drawing and trigonometry reveal that it has the coordinates:\n",
    "px = (\n",
    "    phi + 2 * np.cos(rot_angle) / fov_csi[0]\n",
    ")  # this might have to be adjusted if the FOV is not quadratic\n",
    "pz = (\n",
    "    eps\n",
    "    + np.abs(offset)\n",
    "    + slice_thick / 2.0\n",
    "    + 2 * np.sin(rot_angle) / fov_csi[1]\n",
    ")\n"
   ]
  },
  {
   "cell_type": "code",
   "execution_count": null,
   "id": "5d11e400-929b-44c6-b1e3-4574dd18f8aa",
   "metadata": {
    "tags": []
   },
   "outputs": [],
   "source": [
    "fig,ax=plt.subplots(2,1,figsize=(figsize/3,figsize/2),height_ratios=(30,25))\n",
    "Plot_Voxel_on_Anat(mv_press,coronal,ax[0],vmin=0,vmax=160,vox_color='r')\n",
    "ax[0].set_xlim([13,-13])\n",
    "ax[0].set_ylim([-13,13])\n",
    "ax[0].axis('off')\n",
    "ax[0].set_title(None)\n",
    "ax[0].add_patch(Rectangle(\n",
    "                    (-px, -pz),\n",
    "                    fov_csi[0],\n",
    "                    slice_thick,\n",
    "                    angle=rot_angle * 180 / np.pi,\n",
    "                    alpha=1,\n",
    "                    ec=\"r\",\n",
    "                    color=\"None\",linewidth=1,linestyle='solid'))\n",
    "Plot_Voxel_on_Anat(mv_press,axial,ax[1],vmin=0,vmax=160)\n",
    "ax[1].set_xlim([13,-13])\n",
    "ax[1].set_ylim([-7,15])\n",
    "ax[1].axis('off')\n",
    "ax[1].set_title(None)\n"
   ]
  },
  {
   "cell_type": "markdown",
   "id": "e8218ce8-1812-4fb6-8d8c-478312785d59",
   "metadata": {
    "jp-MarkdownHeadingCollapsed": true,
    "tags": []
   },
   "source": [
    "## 2.2 Plot spectra"
   ]
  },
  {
   "cell_type": "code",
   "execution_count": null,
   "id": "74eb3f6f-ee17-4b3c-90bb-9acdd5247a2e",
   "metadata": {},
   "outputs": [],
   "source": [
    "def Reco_CSI_animal(csi, Plot_QA=True, cut_off=70, LB=0):\n",
    "    # check for encoding type:\n",
    "    enc_order = csi.method[\"PVM_EncOrder\"]\n",
    "    fidsz = csi.method[\"PVM_SpecMatrix\"]\n",
    "    tsz = csi.method[\"PVM_NRepetitions\"]\n",
    "    ysz = csi.method[\"PVM_Matrix\"][1]\n",
    "    xsz = csi.method[\"PVM_Matrix\"][0]\n",
    "    zsz = 1\n",
    "    y_indices = csi.method[\"PVM_EncSteps1\"] + math.floor(ysz / 2.0)\n",
    "    x_indices = csi.method[\"PVM_EncSteps0\"] + math.floor(xsz / 2.0)\n",
    "    read_orient = csi.method[\"PVM_SPackArrReadOrient\"] # depends how encoding is done either A_P or L_R (default)\n",
    "    # now reco differs in case linear or centric is used\n",
    "    if enc_order == \"LINEAR_ENC LINEAR_ENC\":\n",
    "        # do linear encoding reco\n",
    "        print(\"Encoding order\", enc_order)\n",
    "        if csi.dual_channel_flag is True:\n",
    "            print(\n",
    "                \"This is dual channel data, performing phasing first, then csi reco...\"\n",
    "            )\n",
    "            # do phasing\n",
    "        else:\n",
    "            print(\"This is single channel data\")\n",
    "\n",
    "        # TODO currently implementing this\n",
    "        # to be implemented\n",
    "        shifted_final = None\n",
    "\n",
    "    elif enc_order == \"CENTRIC_ENC CENTRIC_ENC\":\n",
    "        print(\"Encoding order\", enc_order)\n",
    "        # do centric encoding reco\n",
    "\n",
    "        # this now applies to measurement where we don't have two channels\n",
    "        # e.g. 31mm coil measurements\n",
    "        # reorder k space according to sampling\n",
    "        old_matrix_coords = np.zeros((ysz, xsz))\n",
    "\n",
    "        if read_orient == 'L_R':\n",
    "\n",
    "            #print('xsz',xsz,'ysz', ysz)\n",
    "            #print(x_indices, y_indices)\n",
    "            c = 0\n",
    "            for ny in y_indices:\n",
    "                for nx in x_indices:\n",
    "                    old_matrix_coords[ny, nx] = c\n",
    "                    c += 1\n",
    "            #as_list = np.reshape(old_matrix_coords, ysz * xsz)\n",
    "\n",
    "            # extract fids from dataset , i.e. cut\n",
    "            get_fids = []\n",
    "            for n in np.arange(0, csi.rawdatajob0.shape[0], fidsz):\n",
    "                # transform the long FID into an array were every entry has the FID of a certain pixel\n",
    "                get_fids.append(csi.rawdatajob0[cut_off + n : n + fidsz])\n",
    "            # make an array\n",
    "            # update fidsz in case we decide to loose the first 70 entries of each fid as there is\n",
    "            # no signal there\n",
    "            fidsz = fidsz - cut_off\n",
    "            get_fids = np.array(get_fids)\n",
    "            # reorder indices according to\n",
    "            k_space_array = np.zeros_like(csi.seq2d[cut_off:, :, :, 0],\n",
    "                                          dtype=np.complex128)\n",
    "            print(k_space_array.shape)\n",
    "            for idx in np.arange(0, get_fids.shape[0], 1):\n",
    "                placement_idx = np.where(old_matrix_coords == idx)\n",
    "                # found the index where each fid needs to go\n",
    "                # the first one in the rawdata file is the center of k space\n",
    "                # and so on outwards\n",
    "                nx = placement_idx[0][0]\n",
    "                ny = placement_idx[1][0]\n",
    "                # possibly change the dimensions of k space array\n",
    "                k_space_array[:, ny, nx] = (get_fids[int(idx), :])\n",
    "\n",
    "        elif read_orient == 'A_P':\n",
    "\n",
    "            c = 0\n",
    "            for ny in y_indices:\n",
    "                for nx in x_indices:\n",
    "                    old_matrix_coords[ny, nx] = c\n",
    "                    c += 1\n",
    "            #as_list = np.reshape(old_matrix_coords, ysz * xsz)\n",
    "\n",
    "            # extract fids from dataset , i.e. cut\n",
    "            get_fids = []\n",
    "            for n in np.arange(0, csi.rawdatajob0.shape[0], fidsz):\n",
    "                # transform the long FID into an array were every entry has the FID of a certain pixel\n",
    "                get_fids.append(csi.rawdatajob0[cut_off + n : n + fidsz])\n",
    "            # make an array\n",
    "            # update fidsz in case we decide to loose the first 70 entries of each fid as there is\n",
    "            # no signal there\n",
    "            fidsz = fidsz - cut_off\n",
    "            get_fids = np.array(get_fids)\n",
    "            # reorder indices according to\n",
    "            k_space_array = np.zeros_like(csi.seq2d[cut_off:, :, :, 0],\n",
    "                                          dtype=np.complex128)\n",
    "            print(k_space_array.shape)\n",
    "            for idx in np.arange(0, get_fids.shape[0], 1):\n",
    "                placement_idx = np.where(old_matrix_coords == idx)\n",
    "                # found the index where each fid needs to go\n",
    "                # the first one in the rawdata file is the center of k space\n",
    "                # and so on outwards\n",
    "                nx = placement_idx[0][0]\n",
    "                ny = placement_idx[1][0]\n",
    "                # possibly change the dimensions of k space array\n",
    "                k_space_array[:, nx, ny] = (get_fids[int(idx), :])\n",
    "            k_space_array = np.transpose(k_space_array,[0,2,1])\n",
    "        else:\n",
    "            print(read_orient,' Orientation not know, no k-space reordering performed')\n",
    "        print('k-space_shape',k_space_array.shape)\n",
    "\n",
    "    # need to account for phase shift in k space due to phase offset\n",
    "    # calculate shift in k space\n",
    "    # transform phase shift from mm into voxels\n",
    "    # minus because otherwise we shift in the different direction, this might have to be updated for future measurements-\n",
    "    shift_x = (\n",
    "        -csi.method[\"PVM_Phase0Offset\"]\n",
    "        * csi.method[\"PVM_Matrix\"][0]\n",
    "        / csi.method[\"PVM_Fov\"][0]\n",
    "    )\n",
    "    shift_y = (\n",
    "        -csi.method[\"PVM_Phase1Offset\"]\n",
    "        * csi.method[\"PVM_Matrix\"][1]\n",
    "        / csi.method[\"PVM_Fov\"][1]\n",
    "    )\n",
    "    print(\"Voxel shift x:\", shift_x, \"Voxel shift y:\", shift_y)\n",
    "    # make a shift matrix\n",
    "    Wx_1d = np.exp(\n",
    "        (1j * 2 * np.pi * np.linspace(0, xsz, xsz) * shift_x) / xsz\n",
    "    )\n",
    "    Wx = np.tile(Wx_1d.T, [fidsz, ysz, 1])\n",
    "    Wy_1d = np.exp(\n",
    "        (1j * 2 * np.pi * np.linspace(0, ysz, ysz) * shift_y) / ysz\n",
    "    )\n",
    "    # make 1D array into a 2D one using tile\n",
    "    Wy = np.tile(Wy_1d.T, [fidsz, xsz, 1])\n",
    "    Wx = np.transpose(Wx, [0, 2, 1])\n",
    "    Wy = np.transpose(Wy, [0, 1, 2])\n",
    "    # apply shift in k space\n",
    "    #print('Wx.shape=',Wx.shape)\n",
    "    #print('Wy.shape',Wy.shape)\n",
    "    print(Wx.shape,Wy.shape,k_space_array.shape)\n",
    "    ordered_k_space = np.flip(np.flip((k_space_array * Wx) * Wy,1),2)\n",
    "    # need to do a few flips and transposes in order to be of the same orientation as the\n",
    "    # 2dseq file\n",
    "    # shifted_final = np.transpose(\n",
    "    #     np.flipud(\n",
    "    #         np.fliplr(\n",
    "    #             csi.FT_kspace_csi(ordered_k_space, cut_off=cut_off, LB=LB)\n",
    "    #         )\n",
    "    #     ),\n",
    "    #     [1, 0, 2],\n",
    "    # )\n",
    "\n",
    "    # like this it has the same dimensions as the csi\n",
    "    if read_orient == 'L_R':\n",
    "        shifted_final = FT_kspace_csi(csi,ordered_k_space, cut_off=cut_off, LB=LB) # for reco fixing\n",
    "        unshifted_final = FT_kspace_csi(csi,\n",
    "            k_space_array, cut_off=cut_off, LB=LB\n",
    "        )\n",
    "    elif read_orient == 'A_P':\n",
    "        shifted_final = np.transpose(FT_kspace_csi(csi,ordered_k_space, cut_off=cut_off, LB=LB),[0,2,1]) # for reco fixing\n",
    "        unshifted_final = np.transpose(FT_kspace_csi(csi,k_space_array, cut_off=cut_off, LB=LB),[0,2,1])\n",
    "    else:\n",
    "        pass\n",
    "\n",
    "    return shifted_final\n"
   ]
  },
  {
   "cell_type": "markdown",
   "id": "c88bc432-d8dd-4dc3-b064-f0422b453d1b",
   "metadata": {
    "tags": []
   },
   "source": [
    "## Perform reco"
   ]
  },
  {
   "cell_type": "code",
   "execution_count": null,
   "id": "94b1a30a-11d8-4005-9cf3-50b547eda1b2",
   "metadata": {
    "tags": []
   },
   "outputs": [],
   "source": [
    "complex_csi_reco_in_vivo=Reco_CSI_animal(csi,cut_off=70,LB=5)"
   ]
  },
  {
   "cell_type": "code",
   "execution_count": null,
   "id": "ca0d3f95-691b-495f-bab0-025ab1a7f144",
   "metadata": {
    "tags": []
   },
   "outputs": [],
   "source": [
    "fig,ax=plt.subplots(1,2)\n",
    "ax[0].imshow(np.sum(csi.seq2d,axis=0))\n",
    "ax[1].imshow(np.abs(np.sum(np.abs(complex_csi_reco_in_vivo),axis=0)))"
   ]
  },
  {
   "cell_type": "code",
   "execution_count": null,
   "id": "3e92cfad-4dfd-4b24-898f-4cd024be4b7a",
   "metadata": {
    "tags": []
   },
   "outputs": [],
   "source": [
    "print('Voxel Number [4,8] in the CSI corresponds to the PRESS voxel')\n",
    "plt.close('all')\n",
    "fig,ax=plt.subplots(1,figsize=(figsize/2,figsize/3),tight_layout=True)\n",
    "press_ppm,press_spec = mv_press.get_ppm(70), np.abs(np.squeeze(mv_press.get_fids_spectra(5,70)[0])[:,0])\n",
    "csi_spec = np.abs(complex_csi_reco_in_vivo[:,8,4])\n",
    "ppm_csi=hypermri.utils.utils_spectroscopy.get_freq_axis(csi,cut_off=70)\n",
    "ax.plot(press_ppm,(press_spec-np.mean(press_spec[0:50]))/np.std(press_spec[0:50]),label='MV-PRESS',color='r')\n",
    "ax.plot(ppm_csi,(csi_spec-np.mean(csi_spec[0:50]))/np.std(csi_spec[0:50]),label='CSI',color='k')\n",
    "ax.set_ylabel('SNR')\n",
    "ax.set_xlabel(r\"$\\sigma$[ppm]\")\n",
    "ax.set_xlim([190,160])\n",
    "ax.legend()\n",
    "\n",
    "csi_snrs = [np.max((csi_spec[0:120]-np.mean(csi_spec[0:50]))/np.std(csi_spec[0:50])),np.max((csi_spec[120:]-np.mean(csi_spec[0:50]))/np.std(csi_spec[0:50]))]\n",
    "mvpress_snrs = [np.max((press_spec[0:512]-np.mean(press_spec[0:50]))/np.std(press_spec[0:50])),np.max((press_spec[512:]-np.mean(press_spec[0:50]))/np.std(press_spec[0:50])) ]\n",
    "print('CSI-SNR Kidney Pyruvate= ',csi_snrs[0])\n",
    "print('MV-PRESS SNR-Kidney Pyruvate = ',mvpress_snrs[0])\n",
    "print('CSI-SNR Kidney Lactate = ',csi_snrs[1])\n",
    "print('MV-PRESS SNR-Kidney Lactate = ',mvpress_snrs[1])\n"
   ]
  },
  {
   "cell_type": "code",
   "execution_count": null,
   "id": "5803ad96-6ee6-4c9e-af54-707277d66d0e",
   "metadata": {},
   "outputs": [],
   "source": []
  },
  {
   "cell_type": "markdown",
   "id": "28a3beca-f603-440d-8748-8a074c0ac009",
   "metadata": {},
   "source": [
    "# 3. PSF simulation"
   ]
  },
  {
   "cell_type": "markdown",
   "id": "d222b574-f64b-4b21-a481-c41104c1e110",
   "metadata": {},
   "source": [
    "### Load siumulated RF pulse profile from Matlab tool"
   ]
  },
  {
   "cell_type": "code",
   "execution_count": null,
   "id": "d915ce5e-6c4f-4fa5-86af-e16e1760b01e",
   "metadata": {},
   "outputs": [],
   "source": [
    "press_180=scio.loadmat(savepath+'180_ref_pulse_PRESS_simul_2mm_1ms.mat')\n",
    "y_range = press_180['parameters']['yrange_cm'][0][0][0][0] * 10\n",
    "y_pts = press_180['parameters']['yrange_cm_npoints'][0][0][0][0]\n",
    "\n",
    "x_ax_press_simul=np.linspace(-y_range/2,y_range/2,y_pts)\n",
    "ref_profile_180=press_180['data']['mz'][0][0][:,1199]"
   ]
  },
  {
   "cell_type": "code",
   "execution_count": null,
   "id": "0811cdc0-6c27-4dce-8b9f-6deed0533d39",
   "metadata": {},
   "outputs": [],
   "source": [
    "def generate_bruker_centric_centric_high_res(ysz=10,xsz=10):\n",
    "\n",
    "    y_indices = []\n",
    "    x_indices = []\n",
    "    \n",
    "    for n in range(ysz):\n",
    "        index = n // 2 if n % 2 == 0 else -(n // 2 + 1)\n",
    "        y_indices.append(index+ math.floor(ysz / 2.0))\n",
    "    for n in range(xsz):\n",
    "        index = n // 2 if n % 2 == 0 else -(n // 2 + 1)\n",
    "        x_indices.append(index+ math.floor(xsz / 2.0))\n",
    "\n",
    "    pattern = np.zeros((ysz, xsz))\n",
    "    c = 0\n",
    "    for ny in y_indices:\n",
    "        for nx in x_indices:\n",
    "            pattern[ny, nx] = c\n",
    "            c += 1\n",
    "\n",
    "    return pattern\n",
    "def generate_psf(sampling_pattern, Mz, alpha_deg):\n",
    "    \"\"\"Generate the PSF based on the sampling pattern and hyperpolarized signal decay.\"\"\"\n",
    "    psf = np.zeros_like(sampling_pattern, dtype=float)\n",
    "    for i in range(len(Mz)):\n",
    "        psf[sampling_pattern == i] = np.sin(np.deg2rad(alpha_deg)) * Mz[i]\n",
    "        # psf[sampling_pattern == i] = Mz[i]\n",
    "    return psf\n",
    "def create_sample_image(nx, ny, shape, size):\n",
    "    sample_image = np.zeros((nx, ny), dtype=\"complex\")\n",
    "    center_x, center_y = nx // 2, ny // 2\n",
    "    radius = int(min(nx, ny) * size / 2)\n",
    "    print(radius)\n",
    "\n",
    "    if shape == \"square\":\n",
    "        x_start, x_end = center_x - radius, center_x + radius\n",
    "        y_start, y_end = center_y - radius, center_y + radius\n",
    "        sample_image[x_start:x_end, y_start:y_end] = 1 + 0j\n",
    "\n",
    "    if shape == \"2 squares\":\n",
    "        x_start_1, x_end_1 = center_x + radius // 2, center_x + 3 * radius // 2\n",
    "        y_start_1, y_end_1 = center_y + radius // 2, center_y + 3 * radius // 2\n",
    "        sample_image[x_start_1:x_end_1, y_start_1:y_end_1] = 1 + 0j\n",
    "\n",
    "        x_start_2, x_end_2 = center_x - 3 * radius // 2, center_x - radius // 2\n",
    "        y_start_2, y_end_2 = center_y - 3 * radius // 2, center_y - radius // 2\n",
    "        sample_image[x_start_2:x_end_2, y_start_2:y_end_2] = 1 + 0j\n",
    "        print(x_start_1, x_end_1, y_start_1, y_end_1)\n",
    "        print(x_start_2, x_end_2, y_start_2, y_end_2)\n",
    "\n",
    "    elif shape == \"circle\":\n",
    "        y, x = np.ogrid[-center_x : nx - center_x, -center_y : ny - center_y]\n",
    "        mask = x * x + y * y <= radius * radius\n",
    "        sample_image[mask] = 1 + 0j\n",
    "\n",
    "    return sample_image\n",
    "\n"
   ]
  },
  {
   "cell_type": "markdown",
   "id": "cb3adcf0-4876-4d95-a8ba-b6701d755c04",
   "metadata": {},
   "source": [
    "## Create sampling pattern and set parameters"
   ]
  },
  {
   "cell_type": "code",
   "execution_count": null,
   "id": "42bcd367-e8dd-47f8-9612-7dab4074c974",
   "metadata": {},
   "outputs": [],
   "source": [
    "\n",
    "nx=40\n",
    "ny=26\n",
    "sampling_pattern=generate_bruker_centric_centric_high_res(ny,nx)\n",
    "M0_au=1e5\n",
    "TR_s=csi.method['PVM_RepetitionTime']/1000\n",
    "T1_s=30\n",
    "alpha_deg=2\n",
    "sample_shape=\"square\"\n",
    "sample_size=0.4\n",
    "noise_level=0.0\n",
    "cmap='magma'"
   ]
  },
  {
   "cell_type": "markdown",
   "id": "5afd11f0-f0b5-4106-8945-e18db0236a29",
   "metadata": {},
   "source": [
    "## Simulate PSF"
   ]
  },
  {
   "cell_type": "code",
   "execution_count": null,
   "id": "c49eddd5-4968-4e77-974a-3b2d124bc04a",
   "metadata": {},
   "outputs": [],
   "source": [
    "n_excitations = nx * ny\n",
    "Mz, sampling_time = hyperpolarized_Mz_flipangle_T1(\n",
    "    M0_au=M0_au,\n",
    "    n_excitations=n_excitations,\n",
    "    TR_s=TR_s,\n",
    "    T1_s=T1_s,\n",
    "    alpha_deg=alpha_deg,\n",
    "    plot=False,\n",
    "    interactive=False,\n",
    ")\n",
    "Mz_T1 = hyperpolarized_Mz_T1(M0_au=M0_au, t_s=sampling_time, T1_s=T1_s)\n",
    "Mz_flipangle = hyperpolarized_Mz_flipangle(\n",
    "    M0_au=M0_au, n_excitations=n_excitations, alpha_deg=alpha_deg\n",
    ")\n",
    "\n",
    "# Generate PSF\n",
    "psf = generate_psf(sampling_pattern, Mz, alpha_deg)\n",
    "psf = psf / psf.shape[0] / psf.shape[1]\n",
    "\n",
    "# Create sample image\n",
    "sample_image = create_sample_image(nx, ny, sample_shape, sample_size)\n",
    "noise = np.random.normal(\n",
    "    0, noise_level, sample_image.shape\n",
    ") + 1j * np.random.normal(0, noise_level, sample_image.shape)\n",
    "sample_image += noise\n",
    "sample_image = sample_image / np.sum(np.abs(sample_image))\n",
    "\n",
    "# Calculate PSF FT and convolved image\n",
    "psf_ft = np.fft.fftshift(np.fft.fft2(np.fft.ifftshift(psf)))\n",
    "sample_kspace = np.fft.fftshift(np.fft.fft2(np.fft.ifftshift(sample_image)))\n",
    "convolved_image = np.abs(\n",
    "    np.fft.ifftshift(\n",
    "        np.fft.ifft2(\n",
    "            np.fft.fftshift(np.fft.fft2(np.fft.ifftshift(sample_image)))\n",
    "            * np.rot90(psf)\n",
    "        )\n",
    "    )\n",
    ")\n",
    "convolved_image = convolved_image / np.sum(np.abs(convolved_image))\n",
    "\n",
    "fig,ax=plt.subplots(2,2,tight_layout=True,figsize=(6.9/1.5,6.9/1.5))\n",
    "\n",
    "img1=ax[0,0].imshow(sampling_pattern.T,cmap=cmap)\n",
    "img2=ax[0,1].imshow(np.abs(sample_image)/np.max(np.abs(sample_image)),cmap=cmap)\n",
    "img3=ax[1,1].imshow(100*((convolved_image/np.max(convolved_image))-(np.abs(sample_image)/np.max(np.abs(sample_image)))),cmap='coolwarm')\n",
    "img4=ax[1,0].imshow(convolved_image/np.max(convolved_image),cmap=cmap,vmin=0,vmax=1)\n",
    "\n",
    "fig.colorbar(img1,ax=ax[0,0],label='k-space points',ticks=[0,750])\n",
    "fig.colorbar(img2,ax=ax[0,1],label='I [a.u.]',ticks=[0,1])\n",
    "fig.colorbar(img4,ax=ax[1,0],label='I [a.u.]',ticks=[0,1])\n",
    "fig.colorbar(img3,ax=ax[1,1],label='I [\\%]',ticks=[-30,0,30])\n",
    "\n",
    "ax[0,0].set_title('A',loc='left')\n",
    "ax[0,1].set_title('B',loc='left')\n",
    "ax[1,0].set_title('C',loc='left')\n",
    "ax[1,1].set_title('D',loc='left')\n",
    "\n",
    "for n in range(2):\n",
    "    for m in range(2):\n",
    "        ax[n,m].axis('off')\n"
   ]
  },
  {
   "cell_type": "code",
   "execution_count": null,
   "id": "657ed8c9-f29c-4413-9b73-2873cb2ed862",
   "metadata": {},
   "outputs": [],
   "source": [
    "fig,ax=plt.subplots(1,figsize=(1.6*5,1.6*3),tight_layout=True)\n",
    "x_ax=np.linspace(-2.5,2.5,sample_image.shape[1])\n",
    "ax.plot(x_ax,convolved_image[int(sample_image.shape[0]/2),:]/np.max(convolved_image[int(sample_image.shape[0]/2),:]),label='CSI',color='k')\n",
    "ax.plot(x_ax_press_simul,(-1*ref_profile_180+1)/2,color='r',label='PRESS')\n",
    "\n",
    "ax.plot(x_ax,sample_image[int(sample_image.shape[0]/2),:]/np.max(sample_image[int(sample_image.shape[0]/2),:]),label='Sample')\n",
    "ax.vlines(-1,0,1,color='g',linestyle='dashed',label='Voxel')\n",
    "ax.vlines(1,0,1,color='g',linestyle='dashed')\n",
    "\n",
    "ax.set_ylabel('I [a.u.]')\n",
    "ax.legend()\n"
   ]
  },
  {
   "cell_type": "code",
   "execution_count": null,
   "id": "798cb339-0ffe-4f4a-9376-9f2630f0a908",
   "metadata": {},
   "outputs": [],
   "source": []
  }
 ],
 "metadata": {
  "kernelspec": {
   "display_name": "Python 3 (ipykernel)",
   "language": "python",
   "name": "python3"
  },
  "language_info": {
   "codemirror_mode": {
    "name": "ipython",
    "version": 3
   },
   "file_extension": ".py",
   "mimetype": "text/x-python",
   "name": "python",
   "nbconvert_exporter": "python",
   "pygments_lexer": "ipython3",
   "version": "3.9.7"
  }
 },
 "nbformat": 4,
 "nbformat_minor": 5
}
