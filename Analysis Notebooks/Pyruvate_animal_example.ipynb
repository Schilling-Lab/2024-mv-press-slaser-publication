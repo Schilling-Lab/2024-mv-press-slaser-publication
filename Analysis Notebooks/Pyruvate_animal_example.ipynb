{
 "cells": [
  {
   "cell_type": "code",
   "execution_count": null,
   "id": "d3de5130-a3e9-4f3b-a627-ae542266fdd7",
   "metadata": {
    "tags": []
   },
   "outputs": [],
   "source": [
    "import hypermri\n",
    "import hypermri.utils.utils_anatomical as ut_anat\n",
    "import sys\n",
    "\n",
    "import hypermri.utils.utils_spectroscopy as ut_spec\n",
    "import hypermri.utils.utils_fitting as ut_fitting\n",
    "import hypermri.utils.utils_general as utg\n",
    "import os\n",
    "import seaborn as sns\n",
    "import pandas as pd\n",
    "import matplotlib.pyplot as plt\n",
    "import ipywidgets as widgets\n",
    "import numpy as np\n",
    "import pandas as pd\n",
    "import datetime\n",
    "from matplotlib.patches import Rectangle\n",
    "from scipy.optimize import curve_fit \n",
    "from hypermri.utils.utils_sv_spectroscopy import Plot_Voxel_on_Anat\n",
    "from scipy.stats import rayleigh\n",
    "# Autoreload extension so that you dont have to reload the kernel every time something is changed in the hypermri or magritek folders\n",
    "%load_ext autoreload\n",
    "%autoreload 2\n",
    "\n",
    "%matplotlib widget\n",
    "import matplotlib\n",
    "from matplotlib import rc\n",
    "rc(\"font\", **{\"family\": \"serif\", \"serif\": [\"Computer Modern\"]})\n",
    "rc(\"text\", usetex=True)\n",
    "matplotlib.rcParams.update({\"font.size\": 11})\n",
    "\n",
    "from Template import import_paths\n",
    "\n",
    "basepath,savepath,publication_path=import_paths()"
   ]
  },
  {
   "cell_type": "markdown",
   "id": "c43c560b-2f69-4f55-980e-b5f1af697050",
   "metadata": {
    "tags": []
   },
   "source": [
    "# Load Data"
   ]
  },
  {
   "cell_type": "code",
   "execution_count": null,
   "id": "81908f07",
   "metadata": {
    "tags": []
   },
   "outputs": [],
   "source": [
    "# define scan path\n",
    "dirpath = basepath + '/'\n",
    "scans = hypermri.BrukerDir(dirpath,verbose=True)\n",
    "\n",
    "animal_ID=''\n",
    "weight=\n",
    "date=''\n",
    "age=\n",
    "\n",
    "locations=['kidney l up','kidney r down','kidney l down','kidney r up','muscle back','artery','liver','muscle foot','kidney l up redone','kidney r redone']"
   ]
  },
  {
   "cell_type": "code",
   "execution_count": null,
   "id": "a8dfd356-0480-407f-a503-23ccd0a7ea35",
   "metadata": {
    "tags": []
   },
   "outputs": [],
   "source": [
    "slaser_diss1 = scans[11]\n",
    "sp2_diss1=scans[16]\n",
    "sp90_diss1=scans[17]\n",
    "axial=scans[25]\n",
    "coronal=scans[18]\n",
    "mvpress_shimcheck=scans[22]\n",
    "press_diss2 = scans[20]\n",
    "sp2_diss2=scans[19]\n",
    "sp90_diss2=scans[21]"
   ]
  },
  {
   "cell_type": "markdown",
   "id": "5e1127b7-5cf3-41b6-977d-10795aa08ad8",
   "metadata": {
    "tags": []
   },
   "source": [
    "# Meta data"
   ]
  },
  {
   "cell_type": "code",
   "execution_count": null,
   "id": "cd8cf124-fc22-4a81-86e0-2e53084339f0",
   "metadata": {
    "tags": []
   },
   "outputs": [],
   "source": [
    "TR=slaser_diss1.method['PVM_RepetitionTime']/1000\n",
    "NR=slaser_diss1.method['PVM_NRepetitions']\n",
    "FA=slaser_diss1.method['VoxPul1'][2]\n",
    "voxsize=slaser_diss1.method['PVM_VoxArrSize']\n",
    "nvox=slaser_diss1.method['PVM_NVoxels']"
   ]
  },
  {
   "cell_type": "markdown",
   "id": "c701abeb-9b1b-4656-b76c-aba92fff1e47",
   "metadata": {
    "tags": []
   },
   "source": [
    "# Anatomicals"
   ]
  },
  {
   "cell_type": "code",
   "execution_count": null,
   "id": "4e61bf44-5cf9-4777-abf3-cda7881634a8",
   "metadata": {
    "tags": []
   },
   "outputs": [],
   "source": [
    "plt.close('all')\n",
    "fig,ax=plt.subplots(1,7,figsize=(12,4))\n",
    "\n",
    "for n in range(nvox-3):\n",
    "    Plot_Voxel_on_Anat(slaser_diss1,coronal,ax[n],n,vox_color='C'+str(n),plot_number=False,vmin=0,vmax=55)\n",
    "\n",
    "    ax[n].axis('off')\n",
    "    ax[n].set_ylim([-15,20])\n",
    "    ax[n].set_xlim([13,-11])\n",
    "    \n",
    "    ax[n].set_title(None)\n",
    "    fig.subplots_adjust(wspace=0.05)\n",
    "    Rect=Rectangle((5,-13),5,1,fc='w')\n",
    "    ax[0].text(10,-11,'5mm',c='w')\n",
    "    ax[n].add_patch(Rect)\n"
   ]
  },
  {
   "cell_type": "code",
   "execution_count": null,
   "id": "99496448-e6da-48d2-8f4c-5a2d347dd93b",
   "metadata": {
    "tags": []
   },
   "outputs": [],
   "source": [
    "fig,ax=plt.subplots(1,7,figsize=(12,3))\n",
    "\n",
    "for n in range(nvox-3):\n",
    "    Plot_Voxel_on_Anat(slaser_diss1,axial,ax[n],n,vox_color='C'+str(n),plot_number=False,vmin=0,vmax=40)\n",
    "\n",
    "    ax[n].axis('off')\n",
    "    ax[n].set_ylim([-15,10])\n",
    "    ax[n].set_xlim([13,-11])\n",
    "    \n",
    "    ax[n].set_title(None)\n",
    "    fig.subplots_adjust(wspace=0.05)\n",
    "    Rect=Rectangle((7,-11),5,1,fc='w')\n",
    "    ax[0].text(12,-9,'5mm',c='w')\n",
    "    ax[n].add_patch(Rect)\n"
   ]
  },
  {
   "cell_type": "code",
   "execution_count": null,
   "id": "9ecc1dc5-0645-4cf9-8378-b0d460ec9ddf",
   "metadata": {
    "tags": []
   },
   "outputs": [],
   "source": []
  },
  {
   "cell_type": "markdown",
   "id": "9e9e33ff-7473-42bd-9f23-a8d3a5425415",
   "metadata": {
    "tags": []
   },
   "source": [
    "# Plot shimcheck"
   ]
  },
  {
   "cell_type": "code",
   "execution_count": null,
   "id": "40f617d3-0197-4e0d-a4cc-bf627f38c79e",
   "metadata": {
    "tags": []
   },
   "outputs": [],
   "source": [
    "fig,ax=plt.subplots(4,2,tight_layout=True,figsize=(4,5))\n",
    "proton_shim_mvpress=np.abs(np.squeeze(mvpress_shimcheck.get_fids_spectra(0,70)[0]))\n",
    "proton_shim_ppm=mvpress_shimcheck.get_ppm(70)\n",
    "\n",
    "for n in range(8):\n",
    "    nx,ny=n//2,n%2\n",
    "    ax[nx,ny].plot(proton_shim_ppm,(proton_shim_mvpress[:,n]-np.mean(proton_shim_mvpress[50:100,n]))/np.std(proton_shim_mvpress[50:100,n]))\n",
    "    #ax.plot(proton_shim_ppm[50:100],(proton_shim_mvpress[50:100,n]-np.mean(proton_shim_mvpress[50:100,n]))/np.std(proton_shim_mvpress[50:100,n]),color='r')\n",
    "    ax[nx,ny].set_xlim([9,1])\n",
    "    ax[nx,ny].set_ylim([-50,750])\n",
    "    ax[nx,0].set_ylabel('I [a.u.]')\n",
    "    ax[nx,1].set_yticks([])\n",
    "    \n",
    "    ax[nx,ny].set_xticks([])\n",
    "    ax[nx,ny].set_title(locations[n])\n",
    "ax[3,0].set_xticks([8,6,4,2])\n",
    "ax[3,1].set_xticks([8,6,4,2])\n",
    "ax[3,0].set_xlabel(r'$\\sigma$ [ppm]')\n",
    "ax[3,1].set_xlabel(r'$\\sigma$ [ppm]')\n"
   ]
  },
  {
   "cell_type": "code",
   "execution_count": null,
   "id": "12edc933-4d84-4481-b6fe-4b152c52231d",
   "metadata": {},
   "outputs": [],
   "source": []
  },
  {
   "cell_type": "markdown",
   "id": "54e9dee3-1d3a-4162-b8a4-fddd95180679",
   "metadata": {
    "tags": []
   },
   "source": [
    "# Spectra plots"
   ]
  },
  {
   "cell_type": "code",
   "execution_count": null,
   "id": "c2d518b6-28b6-46a9-abda-3ef969a7b699",
   "metadata": {
    "tags": []
   },
   "outputs": [],
   "source": []
  },
  {
   "cell_type": "code",
   "execution_count": null,
   "id": "c80fe5f4-60d7-4207-a611-1ad5330a7aa2",
   "metadata": {
    "tags": []
   },
   "outputs": [],
   "source": [
    "fig,(ax,ax2)=plt.subplots(2,1,figsize=(3,4),tight_layout=True)\n",
    "sp2_diss1_spec=sp2_diss1.get_spec(5,70)[2]\n",
    "sp2_diss2_spec=sp2_diss2.get_spec(5,70)[2]\n",
    "\n",
    "\n",
    "sp90_diss1_spec=sp90_diss1.get_spec(5,70)[2]\n",
    "sp90_diss2_spec=sp90_diss2.get_spec(5,70)[2]\n",
    "max_val=np.max(np.abs(sp2_diss1_spec))\n",
    "ax.plot(sp2_diss1.get_ppm(70,0),np.abs(np.squeeze(sp2_diss1_spec))/max_val,label='sLASER')\n",
    "ax.plot(sp2_diss2.get_ppm(70,0),np.abs(np.squeeze(sp2_diss2_spec))/max_val,label='PRESS')\n",
    "ax.set_xlabel('ppm')\n",
    "ax.set_xlim([200,155])\n",
    "ax.set_yticks([0,0.5,1])\n",
    "ax.legend()\n",
    "\n",
    "ax.set_title('2° SP before MRS')\n",
    "\n",
    "max_val=np.max(np.abs(sp90_diss1_spec))\n",
    "ax2.plot(sp90_diss1.get_ppm(70,0),np.abs(np.squeeze(sp90_diss1_spec))/max_val,label='sLASER')\n",
    "ax2.plot(sp90_diss2.get_ppm(70,0),np.abs(np.squeeze(sp90_diss2_spec))/max_val,label='PRESS')\n",
    "ax2.set_xlabel('ppm')\n",
    "ax2.set_xlim([200,155])\n",
    "ax2.set_yticks([0,0.5,1])\n",
    "ax2.legend()\n",
    "ax2.set_title('90° SP after MRS')\n"
   ]
  },
  {
   "cell_type": "code",
   "execution_count": null,
   "id": "148f1b29-32c1-4127-9a13-0ba98a5f9969",
   "metadata": {
    "tags": []
   },
   "outputs": [],
   "source": [
    "plt.close('all')\n",
    "fig,ax=plt.subplots(1,2,figsize=(11.5/2.54,7.0/2.54),tight_layout=True)\n",
    "locations=['Kidney L1','Kidney R1','Kidney L2','Kidney R2','Back muscle','Bloodvessel','Liver','muscle foot','kidney l up redone','kidney r redone'][:7]\n",
    "\n",
    "slaser_spec=np.abs(np.squeeze(slaser_diss1.get_fids_spectra(5,70)[0]))\n",
    "ppm=slaser_diss1.get_ppm(70)\n",
    "press_spec=np.abs(np.squeeze(press_diss2.get_fids_spectra(5,70)[0]))\n",
    "\n",
    "ppm_press=press_diss2.get_ppm(70)\n",
    "\n",
    "[ax[0].plot(ppm,((slaser_spec[:,n]-np.mean(slaser_spec[0:50,n]))/np.std(slaser_spec[0:50,n]))+50*n,label=locations[n],color='C'+str(n)) for n in range(len(locations))]\n",
    "[ax[1].plot(ppm,((press_spec[:,n]-np.mean(press_spec[0:50,n]))/np.std(press_spec[0:50,n]))+50*n,label=locations[n],color='C'+str(n)) for n in range(len(locations))]\n",
    "\n",
    "for n in range(2):\n",
    "    ax[n].set_xlim([190,160])\n",
    "    ax[n].set_xlabel(r'$\\sigma$[ppm]')\n",
    "    ax[n].set_yticks([])\n",
    "    ax[n].set_xticks([165,170,175,180,185])"
   ]
  },
  {
   "cell_type": "markdown",
   "id": "2cbcc135-5844-4d29-9a42-f5e5c5e014e5",
   "metadata": {},
   "source": [
    "# Compute SNR and fit for both datasets"
   ]
  },
  {
   "cell_type": "markdown",
   "id": "9a221da7-cbcd-4b1c-9e13-2afde96c6847",
   "metadata": {},
   "source": [
    "### Fit both datasets"
   ]
  },
  {
   "cell_type": "code",
   "execution_count": null,
   "id": "b845801e-28ee-41d0-941e-db107d00f133",
   "metadata": {
    "tags": []
   },
   "outputs": [],
   "source": [
    "def fit_data(experiment):\n",
    "    metabs = ['pyruvate', 'lactate','pyruvatehydrate','alanine']\n",
    "    fit_params = {}\n",
    "    fit_params[\"zoomfactor\"] = 1.5\n",
    "    fit_params[\"max_t2_s\"] = 0.5\n",
    "    fit_params[\"min_t2_s\"] = 0.001\n",
    "    fit_params[\"range_t2s_s\"] = 0.05\n",
    "\n",
    "    # get the indices of the peaks:\n",
    "    fit_params[\"metabs\"] = metabs\n",
    "    fit_params[\"fit_range_repetitions\"] = 1\n",
    "    fit_params[\"range_freqs_Hz\"] = 25\n",
    "    fit_params[\"cut_off\"] = 70\n",
    "    fit_params[\"niter\"] = 1 # number of iterations:\n",
    "    fit_params[\"npoints\"] = 21 # number of tested points per iteration:\n",
    "    fit_params[\"rep_fitting\"] = 11 # number of tested points per iteration:\n",
    "    fit_params[\"provided_dims\"] = [\"fid\",\"repetitions\"]\n",
    "\n",
    "\n",
    "    fit_params = ut_fitting.def_fit_params(fit_params=fit_params, data_obj=experiment)\n",
    "\n",
    "    cut_off_spec=np.fft.fftshift(np.fft.fft(experiment.complex_fids[fit_params[\"cut_off\"]:,:],axis=0),axes=(0,))\n",
    "\n",
    "    fit_params = ut_fitting.def_fit_params(fit_params=fit_params, data_obj=experiment)\n",
    "\n",
    "    fit_spectrums, fit_amps, fit_freqs, fit_t2s, fit_stds  = ut_fitting.fit_data_pseudo_inv(input_data=cut_off_spec,\n",
    "                                                                                 data_obj=experiment,\n",
    "                                                                      fit_params=fit_params,\n",
    "                                                                  use_multiprocessing=True)\n",
    "\n",
    "    fit_freqs_ppm = ut_spec.freq_Hz_to_ppm(freq_Hz=np.squeeze(fit_freqs), hz_axis=fit_params[\"freq_range_Hz\"], ppm_axis=fit_params[\"freq_range_ppm\"], ppm_axis_flipped=False)\n",
    "    fit_stds_ppm = ut_spec.freq_Hz_to_ppm(freq_Hz=np.squeeze(fit_stds), hz_axis=fit_params[\"freq_range_Hz\"], ppm_axis=fit_params[\"freq_range_ppm\"], ppm_axis_flipped=False)\n",
    "\n",
    "    fig,ax=plt.subplots(len(locations),1,tight_layout=True,figsize=(6,8))\n",
    "\n",
    "    [ax[n].plot(fit_params['freq_range_ppm'],np.abs(np.sum(np.squeeze(fit_spectrums)[:,n,:],axis=1)),color='r') for n in range(len(locations))]\n",
    "    [ax[n].plot(fit_params['freq_range_ppm'],np.abs(np.squeeze(cut_off_spec)[:,n]),color='k',alpha=0.5) for n in range(len(locations))]\n",
    "    [ax[n].set_xlim([185,165]) for n in range(len(locations))]\n",
    "    [ax[n].set_xticks([185,180,175,170,165]) for n in range(len(locations))]\n",
    "    [ax[n].set_title(locations[n]) for n in range(len(locations))]\n",
    "\n",
    "    pyr_amp=np.abs(np.squeeze(fit_amps[:,:,:,:,:,:,0]))\n",
    "    lac_amp=np.abs(np.squeeze(fit_amps[:,:,:,:,:,:,1]))\n",
    "    d_pyr_amp = np.squeeze(fit_stds[..., 0, 0])\n",
    "    d_lac_amp = np.squeeze(fit_stds[..., 1, 0])\n",
    "    return fit_spectrums, fit_amps, fit_freqs, fit_t2s, fit_stds,fit_freqs_ppm,fit_stds_ppm,cut_off_spec,fit_params,metabs\n",
    "\n"
   ]
  },
  {
   "cell_type": "code",
   "execution_count": null,
   "id": "cf64af02-1840-4254-94fd-ac6a28ecd147",
   "metadata": {
    "tags": []
   },
   "outputs": [],
   "source": [
    "fit_spectrums_slaser, fit_amps_slaser, fit_freqs_slaser, fit_t2s_slaser, fit_stds_slaser,fit_freqs_ppm_slaser,fit_stds_ppm_slaser,cut_off_spec_slaser,fit_params_slaser,metabs_slaser=fit_data(slaser_diss1)"
   ]
  },
  {
   "cell_type": "code",
   "execution_count": null,
   "id": "982faa6e-3d8c-41de-a9a6-2acbc095e02d",
   "metadata": {
    "tags": []
   },
   "outputs": [],
   "source": [
    "fit_spectrums_press, fit_amps_press, fit_freqs_press, fit_t2s_press, fit_stds_press,fit_freqs_ppm_press,fit_stds_ppm_press,cut_off_spec_press,fit_params_press,metabs_press=fit_data(press_diss2)"
   ]
  },
  {
   "cell_type": "markdown",
   "id": "f65a0005-3584-4ca7-9a5e-f936c6f16e51",
   "metadata": {},
   "source": [
    "### Compute SNR"
   ]
  },
  {
   "cell_type": "code",
   "execution_count": null,
   "id": "166f413f-79f3-4a82-abe8-06ef09be444b",
   "metadata": {
    "tags": []
   },
   "outputs": [],
   "source": [
    "def compute_snr(experiment,cutoff_spec,fit_spectrums,nvox=7):\n",
    "    metabs = ['pyruvate', 'lactate','pyruvatehydrate','alanine']\n",
    "    fig,ax=plt.subplots(nvox,2,tight_layout=True,figsize=(6,10))\n",
    "    noise_floor=np.ones((nvox))\n",
    "    for n in range(nvox):\n",
    "        ax[n,0].plot(np.abs((np.squeeze(cutoff_spec)[:,n]-np.mean(np.abs(np.squeeze(cutoff_spec)[0:150,n])))/np.std(np.abs(np.squeeze(cutoff_spec)[0:150,n]))))\n",
    "        ax[n,0].plot(np.abs((np.squeeze(cutoff_spec)[:,n]-np.mean(np.abs(np.squeeze(cutoff_spec)[0:150,n])))/np.std(np.abs(np.squeeze(cutoff_spec)[0:150,n])))[0:150])\n",
    "        noise_spec=np.abs(((np.squeeze(cutoff_spec)[:,n]-np.mean(np.real(np.squeeze(cutoff_spec)[0:150,n])))/np.std(np.real(np.squeeze(cutoff_spec)[0:150,n]))))[0:150]\n",
    "\n",
    "        params = rayleigh.fit(noise_spec)\n",
    "        scale = params[1]\n",
    "\n",
    "        # Define x values for plotting the fitted distribution\n",
    "        x = np.linspace(0, max(noise_spec), 100)\n",
    "        pdf_fitted = rayleigh.pdf(x, loc=0, scale=scale)\n",
    "\n",
    "\n",
    "        ax[n,1].hist(noise_spec, bins=30, density=True, alpha=0.3, color='C0', edgecolor='black')\n",
    "        ax[n,1].plot(x, pdf_fitted, 'r-', label=f'Rayleigh fit (scale={scale:.2f})')\n",
    "        # Create a frozen Rayleigh distribution object with the fitted scale parameter\n",
    "        fitted_rayleigh = rayleigh(scale=scale)\n",
    "\n",
    "        # Get mean and standard deviation\n",
    "        mean = fitted_rayleigh.mean()\n",
    "        std_dev = fitted_rayleigh.std()\n",
    "        noise_floor[n]=mean+std_dev\n",
    "        ax[n,1].set_title(str(mean.round(1))+'±'+str(std_dev.round(1)))\n",
    "    \n",
    "    \n",
    "    fig,ax=plt.subplots(nvox,2,tight_layout=True,figsize=(7,5*nvox/2))\n",
    "    peak_snrs=np.ones((4,nvox))*np.nan\n",
    "    mean_noise=[np.mean(np.abs(np.squeeze(cutoff_spec)[0:150,n])) for n in range(nvox)]\n",
    "    std_noise=[np.std(np.abs(np.squeeze(cutoff_spec)[0:150,n])) for n in range(nvox)]\n",
    "\n",
    "    for voxel in range(nvox):\n",
    "        ax[voxel,0].plot(experiment.get_ppm(70),np.abs(np.squeeze(cutoff_spec))[:,voxel])\n",
    "        ax[voxel,0].plot(experiment.get_ppm(70),np.sum(np.abs(np.squeeze(fit_spectrums)[:,voxel,:]),axis=1),color='r')\n",
    "        ax[voxel,1].plot(experiment.get_ppm(70),np.abs(np.squeeze(cutoff_spec))[:,voxel],color='k',alpha=0.3)\n",
    "\n",
    "        for peak in range(4):\n",
    "            max_peak_fit_val=np.max(np.abs(np.squeeze(fit_spectrums)[:,voxel,peak]))\n",
    "\n",
    "            snr=np.round((max_peak_fit_val-mean_noise[voxel])/std_noise[voxel],2)\n",
    "            peak_snrs[peak,voxel]=snr\n",
    "            ax[voxel,1].plot(experiment.get_ppm(70),np.abs(np.squeeze(fit_spectrums)[:,voxel,peak]),label=metabs[peak]+',SNR='+str(snr))\n",
    "            ax[voxel,1].set_title('Noise='+str(np.round(noise_floor[voxel],0)))\n",
    "        ax[voxel,0].set_xlim([195,155])\n",
    "        ax[voxel,1].set_xlim([195,155])\n",
    "\n",
    "        ax[voxel,1].legend()\n",
    "        ax[voxel,0].set_title(locations[voxel])\n",
    "    \n",
    "    return peak_snrs,noise_floor\n"
   ]
  },
  {
   "cell_type": "code",
   "execution_count": null,
   "id": "c4da6fa0-f2c3-4b3c-9dcf-5a3c505a6494",
   "metadata": {
    "tags": []
   },
   "outputs": [],
   "source": [
    "peak_snrs_slaser,noise_slaser=compute_snr(slaser_diss1,cut_off_spec_slaser,fit_spectrums_slaser)"
   ]
  },
  {
   "cell_type": "code",
   "execution_count": null,
   "id": "e044a35f-20d8-4a93-bbfd-455e2bf78902",
   "metadata": {
    "tags": []
   },
   "outputs": [],
   "source": [
    "peak_snrs_press,noise_press=compute_snr(press_diss2,cut_off_spec_press,fit_spectrums_press)"
   ]
  },
  {
   "cell_type": "code",
   "execution_count": null,
   "id": "9ca855f4-c482-4b7e-8c52-db27e5621b7a",
   "metadata": {
    "tags": []
   },
   "outputs": [],
   "source": [
    "output_df_slaser=pd.DataFrame(columns=['Voxel','SNR Pyr','SNR Lac','SNR Hydr','SNR Ala','Noise'])\n",
    "output_df_slaser['Voxel']=locations\n",
    "output_df_slaser['SNR Pyr']=peak_snrs_slaser[0,:]\n",
    "output_df_slaser['SNR Lac']=peak_snrs_slaser[1,:]\n",
    "output_df_slaser['SNR Hydr']=peak_snrs_slaser[2,:]\n",
    "output_df_slaser['SNR Ala']=peak_snrs_slaser[3,:]\n",
    "output_df_slaser['Noise']=noise_slaser\n",
    "output_df_slaser.round(0)"
   ]
  },
  {
   "cell_type": "code",
   "execution_count": null,
   "id": "f0c96b5a-a245-4a17-b3d6-0d15102fe005",
   "metadata": {
    "tags": []
   },
   "outputs": [],
   "source": [
    "output_df_press=pd.DataFrame(columns=['Voxel','SNR Pyr','SNR Lac','SNR Hydr','SNR Ala','Noise'])\n",
    "output_df_press['Voxel']=locations\n",
    "output_df_press['SNR Pyr']=peak_snrs_press[0,:]\n",
    "output_df_press['SNR Lac']=peak_snrs_press[1,:]\n",
    "output_df_press['SNR Hydr']=peak_snrs_press[2,:]\n",
    "output_df_press['SNR Ala']=peak_snrs_press[3,:]\n",
    "output_df_press['Noise']=noise_press\n",
    "output_df_press.round(0)"
   ]
  },
  {
   "cell_type": "code",
   "execution_count": null,
   "id": "b3578e8c-727f-4bc4-b0aa-70a0ebe7c0d2",
   "metadata": {
    "tags": []
   },
   "outputs": [],
   "source": []
  },
  {
   "cell_type": "markdown",
   "id": "886a00a0-b699-48f6-9b03-9f422465424d",
   "metadata": {},
   "source": [
    "# FWHM values"
   ]
  },
  {
   "cell_type": "code",
   "execution_count": null,
   "id": "d4314e43-8fac-451f-aebe-4c5312848292",
   "metadata": {
    "tags": []
   },
   "outputs": [],
   "source": [
    "fwhms_slaser=1/fit_t2s_slaser.squeeze()\n",
    "fwhms_press=1/fit_t2s_press.squeeze()\n",
    "\n",
    "fwhm_df=pd.DataFrame(columns=['Voxel','Sequence','Pyr','Lac','Hydr','Ala'])\n",
    "fwhm_df['Voxel']=locations*2\n",
    "seq=[]\n",
    "for n in range(len(locations)*2):\n",
    "    if n<len(locations):\n",
    "        seq.append('sLASER')\n",
    "    else:\n",
    "        seq.append('PRESS')\n",
    "fwhm_df['Sequence']=seq\n",
    "\n",
    "\n",
    "fwhm_df['Pyr']=np.concatenate([np.array(fwhms_slaser[:7,0]),np.array(fwhms_press[:7,0])])\n",
    "fwhm_df['Lac']=np.concatenate([np.array(fwhms_slaser[:7,1]),np.array(fwhms_press[:7,1])])\n",
    "fwhm_df['Hydr']=np.concatenate([np.array(fwhms_slaser[:7,2]),np.array(fwhms_press[:7,2])])\n",
    "fwhm_df['Ala']=np.concatenate([np.array(fwhms_slaser[:7,3]),np.array(fwhms_press[:7,3])])\n",
    "fwhm_df.round(1)"
   ]
  }
 ],
 "metadata": {
  "interpreter": {
   "hash": "6ce7c583761be579142faa225c0e70588c2a38505df235be463fb45761582748"
  },
  "kernelspec": {
   "display_name": "Python 3 (ipykernel)",
   "language": "python",
   "name": "python3"
  },
  "language_info": {
   "codemirror_mode": {
    "name": "ipython",
    "version": 3
   },
   "file_extension": ".py",
   "mimetype": "text/x-python",
   "name": "python",
   "nbconvert_exporter": "python",
   "pygments_lexer": "ipython3",
   "version": "3.9.7"
  }
 },
 "nbformat": 4,
 "nbformat_minor": 5
}
