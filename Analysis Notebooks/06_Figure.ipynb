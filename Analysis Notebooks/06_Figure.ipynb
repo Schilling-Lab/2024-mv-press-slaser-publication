{
 "cells": [
  {
   "cell_type": "code",
   "execution_count": null,
   "id": "d3de5130-a3e9-4f3b-a627-ae542266fdd7",
   "metadata": {
    "tags": []
   },
   "outputs": [],
   "source": [
    "import hypermri\n",
    "import hypermri.utils.utils_anatomical as ut_anat\n",
    "import sys\n",
    "import hypermri.utils.utils_anatomical as ut_anat\n",
    "import hypermri.utils.utils_fitting as ut_fitting\n",
    "import hypermri.utils.utils_spectroscopy as ut_spec\n",
    "from scipy.stats import rayleigh\n",
    "import os\n",
    "import seaborn as sns\n",
    "import pandas as pd\n",
    "import matplotlib.pyplot as plt\n",
    "import ipywidgets as widgets\n",
    "import numpy as np\n",
    "import pandas as pd\n",
    "import datetime\n",
    "from matplotlib.patches import Rectangle\n",
    "from scipy.optimize import curve_fit \n",
    "from hypermri.utils.utils_sv_spectroscopy import Plot_Voxel_on_Anat\n",
    "\n",
    "    \n",
    "def get_colors_from_cmap(cmap_name, N):\n",
    "    cmap = plt.get_cmap(cmap_name)\n",
    "    colors = cmap(np.linspace(0, 1, N))\n",
    "    return colors\n",
    "\n",
    "from hypermri.utils.utils_sv_spectroscopy import Plot_Voxel_on_Anat\n",
    "\n",
    "\n",
    "# Autoreload extension so that you dont have to reload the kernel every time something is changed in the hypermri or magritek folders\n",
    "%load_ext autoreload\n",
    "%autoreload 2\n",
    "\n",
    "%matplotlib widget\n",
    "import matplotlib\n",
    "from matplotlib import rc\n",
    "rc(\"font\", **{\"family\": \"serif\", \"serif\": [\"Computer Modern\"]})\n",
    "rc(\"text\", usetex=True)\n",
    "matplotlib.rcParams.update({\"font.size\": 11})\n"
   ]
  },
  {
   "cell_type": "code",
   "execution_count": null,
   "id": "81908f07",
   "metadata": {
    "tags": []
   },
   "outputs": [],
   "source": [
    "# define scan path\n",
    "dirpath = basepath + '/'\n",
    "scans = hypermri.BrukerDir(dirpath,verbose=True)\n"
   ]
  },
  {
   "cell_type": "markdown",
   "id": "5e1127b7-5cf3-41b6-977d-10795aa08ad8",
   "metadata": {
    "tags": []
   },
   "source": [
    "# Load Data"
   ]
  },
  {
   "cell_type": "code",
   "execution_count": null,
   "id": "5a224f45-eedb-49b3-a8ae-fc9076f545d5",
   "metadata": {
    "tags": []
   },
   "outputs": [],
   "source": [
    "slaser_diss1 = scans[17]\n",
    "sp90diss1=scans[19]\n",
    "\n",
    "axial=scans[11]\n",
    "coronal=scans[32]\n",
    "sagittal=scans[16]\n",
    "\n",
    "press_diss2 = scans[23]\n",
    "sp90diss2=scans[24]\n",
    "\n",
    "animal_ID=''\n",
    "date=''\n"
   ]
  },
  {
   "cell_type": "code",
   "execution_count": null,
   "id": "cd8cf124-fc22-4a81-86e0-2e53084339f0",
   "metadata": {
    "tags": []
   },
   "outputs": [],
   "source": [
    "TR=slaser_diss1.method['PVM_RepetitionTime']/1000\n",
    "NR=slaser_diss1.method['PVM_NRepetitions']\n",
    "FA=slaser_diss1.method['VoxPul1'][2]\n",
    "voxsize=slaser_diss1.method['PVM_VoxArrSize']\n",
    "nvox=slaser_diss1.method['PVM_NVoxels']\n",
    "\n",
    "print('TR=',TR,'s','NR=',NR,'FA=',FA,'Size',voxsize[0])"
   ]
  },
  {
   "cell_type": "markdown",
   "id": "9e9e33ff-7473-42bd-9f23-a8d3a5425415",
   "metadata": {
    "tags": []
   },
   "source": [
    "# Plot shimcheck"
   ]
  },
  {
   "cell_type": "code",
   "execution_count": null,
   "id": "af1673b9-d6b3-4006-9536-fb9c9a08cfa2",
   "metadata": {
    "tags": []
   },
   "outputs": [],
   "source": [
    "mvpress_shimcheck=scans[27]"
   ]
  },
  {
   "cell_type": "code",
   "execution_count": null,
   "id": "7191e1f4-0143-4b1e-bdb1-e654591d9bcb",
   "metadata": {
    "tags": []
   },
   "outputs": [],
   "source": [
    "fig,ax=plt.subplots(2,1,tight_layout=True,figsize=(8,8))\n",
    "locations=['Kidney l','Kidney r','Kidney r','Kidney l','Artery','Liver','Muscle','Heart','Abdomen','Abdomen']\n",
    "proton_shim_mvpress=mvpress_shimcheck.get_fids_spectra(0,0)[0]\n",
    "max_val=np.max(proton_shim_mvpress)\n",
    "for n in range(2):\n",
    "\n",
    "    ax[n].plot(mvpress_shimcheck.ppm_axis,np.abs(np.squeeze(proton_shim_mvpress))[:,n]/max_val)\n",
    "\n",
    "    ax[n].set_title(locations[n])"
   ]
  },
  {
   "cell_type": "markdown",
   "id": "7b1eead6-69d5-40da-8d05-2d2a4de4f5cd",
   "metadata": {},
   "source": [
    "# Make one plot with both dissolutions"
   ]
  },
  {
   "cell_type": "code",
   "execution_count": null,
   "id": "7b83bd96-2415-444d-825c-c7b20310c05c",
   "metadata": {
    "tags": []
   },
   "outputs": [],
   "source": [
    "press_spec=press_diss2.get_fids_spectra(5,70)[0]\n",
    "ppm_press=press_diss2.get_ppm(70)\n",
    "\n",
    "slaser_spec=slaser_diss1.get_fids_spectra(5,70)[0]\n",
    "ppm_slaser=slaser_diss1.get_ppm(70)"
   ]
  },
  {
   "cell_type": "code",
   "execution_count": null,
   "id": "71238520-6de8-4cfa-a2c1-32dd7a9203fc",
   "metadata": {
    "tags": []
   },
   "outputs": [],
   "source": [
    "plt.close('all')\n",
    "fig,ax = plt.subplots(2,2,figsize=(5,5),subplot_kw={\"projection\":\"3d\"},tight_layout=True)\n",
    "\n",
    "# first voxel sLASER\n",
    "time_scale_vox1 = (np.arange(0,slaser_diss1.method['PVM_RepetitionTime']*slaser_diss1.method['PVM_NRepetitions'],slaser_diss1.method['PVM_RepetitionTime'])/1000)\n",
    "max_val=np.max(np.abs(slaser_spec))\n",
    "Z = np.array([np.abs((slaser_spec[:,0,0,0,t,0]))/max_val for t in range(15)])\n",
    "X,Y = np.meshgrid(ppm_slaser,time_scale_vox1)\n",
    "ax[0,0].plot_wireframe(X,Y,Z,rstride=1,cstride=0,color='k',linewidth=0.7)\n",
    "\n",
    "\n",
    "        \n",
    "# second voxel sLASER\n",
    "time_scale_vox2 = (np.arange(slaser_diss1.method['PVM_RepetitionTime'],slaser_diss1.method['PVM_RepetitionTime']*slaser_diss1.method['PVM_NRepetitions']+slaser_diss1.method['PVM_RepetitionTime'],slaser_diss1.method['PVM_RepetitionTime'])/1000)\n",
    "z = np.array([np.abs((slaser_spec[:,1,0,0,t,0]))/max_val for t in range(15)])\n",
    "X,Y = np.meshgrid(ppm_slaser,time_scale_vox2)\n",
    "ax[0,1].plot_wireframe(X,Y,z,rstride=1,cstride=0,color='k',linewidth=0.7)\n",
    "\n",
    "\n",
    "# PRESS first voxel\n",
    "time_scale_vox1 = (np.arange(0,press_diss2.method['PVM_RepetitionTime']*press_diss2.method['PVM_NRepetitions'],press_diss2.method['PVM_RepetitionTime'])/1000)\n",
    "z = np.array([np.abs((press_spec[:,0,0,0,t,0]))/max_val for t in range(15)])\n",
    "X,Y = np.meshgrid(ppm_press,time_scale_vox1)\n",
    "ax[1,0].plot_wireframe(X,Y,z,rstride=1,cstride=0,color='k',linewidth=0.7)\n",
    "\n",
    "\n",
    "\n",
    "time_scale_vox2 = (np.arange(press_diss2.method['PVM_RepetitionTime'],press_diss2.method['PVM_RepetitionTime']*press_diss2.method['PVM_NRepetitions']+press_diss2.method['PVM_RepetitionTime'],press_diss2.method['PVM_RepetitionTime'])/1000)\n",
    "z = np.array([np.abs((press_spec[:,1,0,0,t,0]))/max_val for t in range(15)])\n",
    "X,Y = np.meshgrid(ppm_press,time_scale_vox2)\n",
    "ax[1,1].plot_wireframe(X,Y,z,rstride=1,cstride=0,linewidth=0.7,color='k')\n",
    "\n",
    "\n",
    "for n in range(4):\n",
    "    nx,ny=n%2,n//2\n",
    "    ax[1,ny].set_xlabel(r'$\\sigma$ [ppm]')\n",
    "    ax[nx,ny].set_xlim([np.max(x),np.min(x)])\n",
    "    ax[nx,ny].set_zlabel('I [a.u.]')\n",
    "    #ax[nx,ny].set_ylabel('repetition')\n",
    "\n",
    "    ax[nx,ny].set_yticks([])\n",
    "    ax[nx,ny].set_zlim([0,0.7])\n",
    "    ax[nx,ny].set_zticks([0,0.5])\n",
    "    ax[0,ny].set_xticks([])\n",
    "    \n",
    "    ax[nx,ny].xaxis.set_pane_color((1.0, 1.0, 1.0, 0.0))\n",
    "    ax[nx,ny].yaxis.set_pane_color((1.0, 1.0, 1.0, 0.0))\n",
    "    ax[nx,ny].zaxis.set_pane_color((1.0, 1.0, 1.0, 0.0))\n",
    "\n",
    "    ax[nx,ny].xaxis._axinfo[\"grid\"]['color'] =  (1,1,1,0)\n",
    "    ax[nx,ny].yaxis._axinfo[\"grid\"]['color'] =  (1,1,1,0)\n",
    "    ax[nx,ny].zaxis._axinfo[\"grid\"]['color'] =  (1,1,1,0)\n",
    "\n"
   ]
  },
  {
   "cell_type": "markdown",
   "id": "c4920195-89f3-489b-ba61-f8de6f03048e",
   "metadata": {
    "tags": []
   },
   "source": [
    "# Anatomicals"
   ]
  },
  {
   "cell_type": "code",
   "execution_count": null,
   "id": "6ed264ec-4224-40e9-99de-408517051bdd",
   "metadata": {
    "tags": []
   },
   "outputs": [],
   "source": [
    "plt.close('all')\n",
    "vox_names=['Kidney L', 'Kidney R']\n",
    "fig,ax=plt.subplots(2,2,figsize=(4,8))\n",
    "matplotlib.rcParams.update({\"font.size\": 11})\n",
    "for n in range(len(vox_names)):\n",
    "    Plot_Voxel_on_Anat(press_diss2,coronal,ax[0,n],n,0,15,vox_color='C'+str(n))\n",
    "    ax[0,n].axis('off')\n",
    "    ax[0,n].set_title(None)\n",
    "    ax[0,n].set_xlim([12,-12])\n",
    "    ax[0,n].add_patch(Rectangle((-9,-23),5,1,fc='w'))\n",
    "    ax[0,n].text(-3,-21.5,'5 mm',color='w')\n",
    "    #ax[0,n].text(3,21.5,vox_names[n],color='w',size='11')\n",
    "\n",
    "for n in range(len(vox_names)):\n",
    "    Plot_Voxel_on_Anat(press_diss2,axial,ax[1,n],n,0,15,vox_color='C'+str(n))\n",
    "    ax[1,n].axis('off')\n",
    "    ax[1,n].set_title(None)\n",
    "    #ax[1,n].set_xlim([12,-12])\n",
    "    #ax[1,n].set_ylim([-13,13])\n",
    "    \n",
    "\n",
    "plt.subplots_adjust(hspace=0,wspace=0.1)\n"
   ]
  },
  {
   "cell_type": "markdown",
   "id": "26cff755-cb46-4733-91f1-d0b56c41025c",
   "metadata": {},
   "source": [
    "# Plot time curves"
   ]
  },
  {
   "cell_type": "code",
   "execution_count": null,
   "id": "d335c962-39a7-4c09-8c32-1e8825176e7e",
   "metadata": {
    "tags": []
   },
   "outputs": [],
   "source": [
    "def fit_mvpress(experiment,animal_id,date):\n",
    "    metabs = ['pyruvate', 'lactate','pyruvatehydrate','alanine']\n",
    "\n",
    "    fit_params = {}\n",
    "\n",
    "    fit_params[\"zoomfactor\"] = 1.5\n",
    "    fit_params[\"max_t2_s\"] = 0.5\n",
    "    fit_params[\"min_t2_s\"] = 0.001\n",
    "    fit_params[\"range_t2s_s\"] = 0.05\n",
    "\n",
    "    # get the indices of the peaks:\n",
    "    fit_params[\"metabs\"] = metabs\n",
    "    fit_params[\"fit_range_repetitions\"] = NR\n",
    "    fit_params[\"range_freqs_Hz\"] = 25\n",
    "    fit_params[\"cut_off\"] = 70\n",
    "    fit_params[\"niter\"] = 1 # number of iterations:\n",
    "    fit_params[\"npoints\"] = 21 # number of tested points per iteration:\n",
    "    fit_params[\"rep_fitting\"] = 11 # number of tested points per iteration:\n",
    "    fit_params[\"provided_dims\"] = [\"fid\",\"repetitions\"]\n",
    "\n",
    "\n",
    "    fit_params = ut_fitting.def_fit_params(fit_params=fit_params, data_obj=experiment)\n",
    "\n",
    "\n",
    "    cut_off_spec=np.fft.fftshift(np.fft.fft(experiment.complex_fids[fit_params[\"cut_off\"]:,:],axis=0),axes=(0,))\n",
    "\n",
    "    fit_params = ut_fitting.def_fit_params(fit_params=fit_params, data_obj=experiment)\n",
    "\n",
    "    fit_spectrums, fit_amps, fit_freqs, fit_t2s, fit_stds  = ut_fitting.fit_data_pseudo_inv(input_data=cut_off_spec,\n",
    "                                                                                 data_obj=experiment,\n",
    "                                                                      fit_params=fit_params,\n",
    "                                                                  use_multiprocessing=True)\n",
    "\n",
    "    fit_freqs_ppm = ut_spec.freq_Hz_to_ppm(freq_Hz=np.squeeze(fit_freqs), hz_axis=fit_params[\"freq_range_Hz\"], ppm_axis=fit_params[\"freq_range_ppm\"], ppm_axis_flipped=False)\n",
    "    fit_stds_ppm = ut_spec.freq_Hz_to_ppm(freq_Hz=np.squeeze(fit_stds), hz_axis=fit_params[\"freq_range_Hz\"], ppm_axis=fit_params[\"freq_range_ppm\"], ppm_axis_flipped=False)\n",
    "    \n",
    "\n",
    "    pyr_amp=np.abs(np.squeeze(fit_amps[:,:,:,:,:,:,0]))\n",
    "    lac_amp=np.abs(np.squeeze(fit_amps[:,:,:,:,:,:,1]))\n",
    "\n",
    "    d_pyr_amp = np.squeeze(fit_stds[..., 0, 0])\n",
    "    d_lac_amp = np.squeeze(fit_stds[..., 1, 0])\n",
    "    \n",
    "\n",
    "    AUCR=lac_amp/pyr_amp\n",
    "\n",
    "    d_AUCR = np.abs(AUCR * np.sqrt((d_pyr_amp / pyr_amp)**2 + (d_lac_amp / lac_amp)**2))\n",
    "\n",
    "\n",
    "    return fit_spectrums, fit_amps, fit_freqs, fit_t2s, fit_stds,fit_freqs_ppm,fit_stds_ppm, AUCR, d_AUCR,cut_off_spec\n",
    "\n"
   ]
  },
  {
   "cell_type": "code",
   "execution_count": null,
   "id": "6d76fd86-ef91-4bb9-a25d-8afe6f4e411c",
   "metadata": {
    "tags": []
   },
   "outputs": [],
   "source": [
    "fit_spectrums_sLASER, fit_amps_sLASER, fit_freqs_sLASER, fit_t2s_sLASER, fit_stds_sLASER,fit_freqs_ppm_sLASER,fit_stds_ppm_sLASER, AUCR_sLASER, d_AUCR_sLASER,cut_off_spec_sLASER=fit_mvpress(slaser_diss1,animal_ID,date)"
   ]
  },
  {
   "cell_type": "code",
   "execution_count": null,
   "id": "0c135496-64f8-45e4-8abb-180dc376b832",
   "metadata": {
    "tags": []
   },
   "outputs": [],
   "source": [
    "fig,ax=plt.subplots(NR,len(locations),tight_layout=True,figsize=(6,15))\n",
    "for rep in range(NR):\n",
    "    [ax[rep,n].plot(ppm,np.abs(np.sum(np.squeeze(fit_spectrums_sLASER)[:,n,rep,:],axis=1)),color='r') for n in range(len(locations))]\n",
    "    [ax[rep,n].plot(ppm,np.abs(np.squeeze(cut_off_spec_sLASER)[:,n,rep]),color='k',alpha=0.5) for n in range(len(locations))]\n",
    "    [ax[rep,n].set_xlim([185,165]) for n in range(len(locations))]\n",
    "    [ax[rep,n].set_xticks([185,180,175,170,165]) for n in range(len(locations))]\n",
    "    [ax[rep,n].set_title(locations[n]) for n in range(len(locations))]\n"
   ]
  },
  {
   "cell_type": "code",
   "execution_count": null,
   "id": "e55c099a-d1af-4a65-b9ab-c4e51e5071b9",
   "metadata": {
    "tags": []
   },
   "outputs": [],
   "source": [
    "fit_spectrums_PRESS, fit_amps_PRESS, fit_freqs_PRESS, fit_t2s_PRESS, fit_stds_PRESS,fit_freqs_ppm_PRESS,fit_stds_ppm_PRESS, AUCR_PRESS, d_AUCR_PRESS,cut_off_spec_PRESS=fit_mvpress(press_diss2,animal_ID,date)"
   ]
  },
  {
   "cell_type": "code",
   "execution_count": null,
   "id": "564bbde8-fd39-4388-94e8-5079c1a6d4c3",
   "metadata": {
    "tags": []
   },
   "outputs": [],
   "source": [
    "fig,ax=plt.subplots(1,4,figsize=(8,2),tight_layout=True)\n",
    "max_sig=np.max(np.abs(fit_amps_sLASER))\n",
    "ax[0].plot(slaser_diss1.time_ax_array[0],np.abs(np.squeeze(fit_amps_sLASER)[0,:,0])/max_sig,label='Pyr')\n",
    "ax[0].plot(slaser_diss1.time_ax_array[0],np.abs(np.squeeze(fit_amps_sLASER)[0,:,1])/max_sig,label='Lac')\n",
    "ax[1].plot(slaser_diss1.time_ax_array[1],np.abs(np.squeeze(fit_amps_sLASER)[1,:,0])/max_sig,label='Pyr')\n",
    "ax[1].plot(slaser_diss1.time_ax_array[1],np.abs(np.squeeze(fit_amps_sLASER)[1,:,1])/max_sig,label='Lac')\n",
    "\n",
    "\n",
    "\n",
    "ax[2].plot(press_diss2.time_ax_array[0],np.abs(np.squeeze(fit_amps_PRESS)[0,:,0])/max_sig,label='Pyr')\n",
    "ax[2].plot(press_diss2.time_ax_array[0],np.abs(np.squeeze(fit_amps_PRESS)[0,:,1])/max_sig,label='Lac')\n",
    "ax[3].plot(press_diss2.time_ax_array[1],np.abs(np.squeeze(fit_amps_PRESS)[1,:,0])/max_sig,label='Pyr')\n",
    "ax[3].plot(press_diss2.time_ax_array[1],np.abs(np.squeeze(fit_amps_PRESS)[1,:,1])/max_sig,label='Lac')\n",
    "\n",
    "\n",
    "for n in range(4):\n",
    "    ax[3].legend()\n",
    "    ax[n].set_xlabel('t [s]')\n",
    "    ax[0].set_ylabel('AUC [a.u.]')\n",
    "    ax[n].set_yticks([0,0.5,1])\n",
    "    ax[n].set_xticks([0,6,12,18])\n",
    "    ax[n].set_xlim([0,20])\n",
    "ax[0].set_title('semi-LASER')\n",
    "ax[2].set_title('PRESS')\n"
   ]
  },
  {
   "cell_type": "code",
   "execution_count": null,
   "id": "bf1031c6-6925-4bac-a85d-359d0fd0b3a6",
   "metadata": {},
   "outputs": [],
   "source": [
    "def compute_snr(experiment,cutoff_spec,fit_spectrums,nvox=2,metabs=['pyruvate', 'lactate','pyruvatehydrate','alanine']):\n",
    "    plt.close('all')\n",
    "    NR=experiment.method['PVM_NRepetitions']\n",
    "    noise_floor=np.ones((nvox,NR))\n",
    "    for voxel in range(2):\n",
    "        fig,ax=plt.subplots(2,NR,tight_layout=True,figsize=(3*NR,3))\n",
    "        for n in range(NR):\n",
    "            ax[0,n].plot(np.abs((np.squeeze(cutoff_spec)[:,voxel,n]-np.mean(np.abs(np.squeeze(cutoff_spec)[0:150,voxel,n])))/np.std(np.abs(np.squeeze(cutoff_spec)[0:150,voxel,n]))))\n",
    "            ax[0,n].plot(np.abs((np.squeeze(cutoff_spec)[:,voxel,n]-np.mean(np.abs(np.squeeze(cutoff_spec)[0:150,voxel,n])))/np.std(np.abs(np.squeeze(cutoff_spec)[0:150,voxel,n])))[0:150])\n",
    "            noise_spec=np.abs(((np.squeeze(cutoff_spec)[:,voxel,n]-np.mean(np.real(np.squeeze(cutoff_spec)[0:150,voxel,n])))/np.std(np.real(np.squeeze(cutoff_spec)[0:150,voxel,n]))))[0:150]\n",
    "\n",
    "            params = rayleigh.fit(noise_spec)\n",
    "            scale = params[1]\n",
    "\n",
    "            # Define x values for plotting the fitted distribution\n",
    "            x = np.linspace(0, max(noise_spec), 100)\n",
    "            pdf_fitted = rayleigh.pdf(x, loc=0, scale=scale)\n",
    "\n",
    "\n",
    "            ax[1,n].hist(noise_spec, bins=30, density=True, alpha=0.3, color='C0', edgecolor='black')\n",
    "            ax[1,n].plot(x, pdf_fitted, 'r-', label=f'Rayleigh fit (scale={scale:.2f})')\n",
    "            # Create a frozen Rayleigh distribution object with the fitted scale parameter\n",
    "            fitted_rayleigh = rayleigh(scale=scale)\n",
    "\n",
    "            # Get mean and standard deviation\n",
    "            mean = fitted_rayleigh.mean()\n",
    "            std_dev = fitted_rayleigh.std()\n",
    "            noise_floor[voxel,n]=mean+std_dev\n",
    "            ax[1,n].set_title(str(mean.round(1))+'±'+str(std_dev.round(1)))\n",
    "        ax[0,0].set_title('Voxel '+str(voxel))\n",
    "    \n",
    "\n",
    "        \n",
    "    fig,ax=plt.subplots(2,NR,tight_layout=True,figsize=(NR,2))\n",
    "    peak_snrs=np.ones((4,nvox,NR))*np.nan\n",
    "    mean_noise=np.array([[np.mean(np.real(np.squeeze(cutoff_spec)[0:150,n,rep])) for rep in range(NR)] for n in range(nvox)])\n",
    "    std_noise=np.array([[np.std(np.real(np.squeeze(cutoff_spec)[0:150,n,rep])) for rep in range(NR)] for n in range(nvox)])\n",
    "\n",
    "    for rep in range(NR):\n",
    "        for voxel in range(nvox):\n",
    "            for peak in range(4):\n",
    "                max_peak_fit_val=np.max(np.abs(np.squeeze(fit_spectrums)[:,voxel,rep,peak]))\n",
    "                \n",
    "                snr=np.round((max_peak_fit_val-mean_noise[voxel,rep])/std_noise[voxel,rep],2)\n",
    "                peak_snrs[peak,voxel,rep]=snr\n",
    "                ax[voxel,rep].plot(experiment.get_ppm(70),np.abs(np.squeeze(fit_spectrums)[:,voxel,peak]),label=metabs[peak]+','+str(snr))\n",
    "                ax[voxel,rep].set_title(str(np.round(noise_floor[voxel,rep],0)))\n",
    "            ax[voxel,rep].set_xlim([195,155])\n",
    "\n",
    "            handles, labels = ax[voxel,rep].get_legend_handles_labels()\n",
    "            unique = [(h, l) for i, (h, l) in enumerate(zip(handles, labels)) if l not in labels[:i]]\n",
    "            ax[voxel,rep].legend(*zip(*unique),fontsize=4)\n",
    "            \n",
    "\n",
    "            ax[voxel,0].set_title(locations[voxel])\n",
    "    \n",
    "    return peak_snrs,noise_floor\n"
   ]
  },
  {
   "cell_type": "code",
   "execution_count": null,
   "id": "b1eb9017-45db-4c5e-9664-c68d5746ced5",
   "metadata": {},
   "outputs": [],
   "source": [
    "peak_snrs_slaser,noise_slaser=compute_snr(slaser_diss1,cut_off_spec_sLASER,fit_spectrums_sLASER)"
   ]
  },
  {
   "cell_type": "code",
   "execution_count": null,
   "id": "5b417747-acb8-4525-83dc-438fb8d9d97f",
   "metadata": {},
   "outputs": [],
   "source": [
    "peak_snrs_press,noise_press=compute_snr(press_diss2,cut_off_spec_PRESS,fit_spectrums_PRESS)"
   ]
  },
  {
   "cell_type": "code",
   "execution_count": null,
   "id": "d5d88c5c-88d7-49fa-a2df-50a170822a2c",
   "metadata": {},
   "outputs": [],
   "source": [
    "output_df_press=pd.DataFrame(columns=['Repetition','Voxel','SNR Pyr','SNR Lac','SNR Hydr','SNR Ala','Noise'])\n",
    "output_df_press['Repetition']=np.concatenate([[n for n in range(NR)],[n for n in range(NR)]])\n",
    "output_df_press['Voxel']=np.concatenate([[locations[0] for n in range(NR)],[locations[1] for n in range(NR)]])\n",
    "for i, col in enumerate(['SNR Pyr','SNR Lac','SNR Hydr','SNR Ala']):\n",
    "    array_flattened = peak_snrs_press[i, :, :].T.flatten(order='F')\n",
    "    output_df_press[col] = array_flattened\n",
    "output_df_press['Noise']= noise_press.flatten()\n",
    "output_df_press.round(0)"
   ]
  },
  {
   "cell_type": "code",
   "execution_count": null,
   "id": "d64e63b0-460f-425c-8317-2730c70b2af5",
   "metadata": {},
   "outputs": [],
   "source": [
    "output_df_slaser=pd.DataFrame(columns=['Repetition','Voxel','SNR Pyr','SNR Lac','SNR Hydr','SNR Ala','Noise'])\n",
    "output_df_slaser['Repetition']=np.concatenate([[n for n in range(NR)],[n for n in range(NR)]])\n",
    "output_df_slaser['Voxel']=np.concatenate([[locations[0] for n in range(NR)],[locations[1] for n in range(NR)]])\n",
    "\n",
    "for i, col in enumerate(['SNR Pyr','SNR Lac','SNR Hydr','SNR Ala']):\n",
    "    # Flatten the array along the last axis for the current column\n",
    "    array_flattened = peak_snrs_slaser[i, :, :].T.flatten(order='F')  # Column-major (alternating)\n",
    "    # Assign flattened values to the corresponding column in the DataFrame\n",
    "    output_df_slaser[col] = array_flattened\n",
    "output_df_slaser['Noise']= noise_slaser.flatten()\n",
    "output_df_slaser.round(0)"
   ]
  }
 ],
 "metadata": {
  "interpreter": {
   "hash": "6ce7c583761be579142faa225c0e70588c2a38505df235be463fb45761582748"
  },
  "kernelspec": {
   "display_name": "Python 3 (ipykernel)",
   "language": "python",
   "name": "python3"
  },
  "language_info": {
   "codemirror_mode": {
    "name": "ipython",
    "version": 3
   },
   "file_extension": ".py",
   "mimetype": "text/x-python",
   "name": "python",
   "nbconvert_exporter": "python",
   "pygments_lexer": "ipython3",
   "version": "3.9.7"
  }
 },
 "nbformat": 4,
 "nbformat_minor": 5
}
