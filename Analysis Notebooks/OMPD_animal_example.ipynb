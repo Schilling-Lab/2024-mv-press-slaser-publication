{
 "cells": [
  {
   "cell_type": "code",
   "execution_count": null,
   "id": "de2995ec-b65f-4db8-a0c6-7b46f28ca472",
   "metadata": {
    "tags": []
   },
   "outputs": [],
   "source": [
    "import hypermri\n",
    "import hypermri.utils.utils_anatomical as ut_anat\n",
    "import sys\n",
    "\n",
    "import os\n",
    "import seaborn as sns\n",
    "import pandas as pd\n",
    "import matplotlib.pyplot as plt\n",
    "import ipywidgets as widgets\n",
    "import numpy as np\n",
    "import pandas as pd\n",
    "import datetime\n",
    "from scipy.stats import rayleigh\n",
    "from scipy.optimize import curve_fit \n",
    "import matplotlib\n",
    "from matplotlib.patches import Rectangle\n",
    "\n",
    "from hypermri.utils.utils_sv_spectroscopy import Plot_Voxel_on_Anat\n",
    "import hypermri.utils.utils_anatomical as ut_anat\n",
    "import hypermri.utils.utils_spectroscopy as ut_spec\n",
    "import hypermri.utils.utils_fitting as ut_fitting\n",
    "\n",
    "%load_ext autoreload\n",
    "%autoreload 2\n",
    "\n",
    "%matplotlib widget\n",
    "\n",
    "def get_colors_from_cmap(cmap_name, N):\n",
    "    cmap = plt.get_cmap(cmap_name)\n",
    "    colors = cmap(np.linspace(0, 1, N))\n",
    "    return colors\n",
    "\n",
    "\n",
    "from matplotlib import rc\n",
    "rc(\"font\", **{\"family\": \"serif\", \"serif\": [\"Computer Modern\"]})\n",
    "rc(\"text\", usetex=True)\n",
    "matplotlib.rcParams.update({\"font.size\": 11})\n",
    "import hypermri\n",
    "from Template import import_paths\n",
    "\n",
    "basepath,savepath,publication_path=import_paths()\n",
    "savepath=os.path.join(savepath,'OMPD_mice/')"
   ]
  },
  {
   "cell_type": "markdown",
   "id": "1b79a0b2-31cb-4679-b1cc-6a17c06e7d45",
   "metadata": {
    "tags": []
   },
   "source": [
    "# Load Data"
   ]
  },
  {
   "cell_type": "code",
   "execution_count": null,
   "id": "c0a0d741-c991-44c6-952e-3bf559cd76ae",
   "metadata": {
    "tags": []
   },
   "outputs": [],
   "source": [
    "path=''\n",
    "animal_id=''\n",
    "date=''\n",
    "base=os.path.dirname(os.path.dirname(basepath))\n",
    "scans=hypermri.BrukerDir(os.path.join(base,path),verbose=True,keywords=['PVM_NVoxels'])\n",
    "coronal=scans[7]\n",
    "axial=scans[8]\n",
    "mv_press=scans[19]\n",
    "mv_press_1H=scans[18]\n",
    "singlepulse=scans[20]\n",
    "nvox=mv_press.method['PVM_NVoxels']\n",
    "# name the positions where we have put PRESS Muscle\n",
    "vox_names=['Tumor','Tumor','Kidney','Kidney','Muscle','Artery']\n",
    "locations=vox_names"
   ]
  },
  {
   "cell_type": "code",
   "execution_count": null,
   "id": "421b1652-1ffe-4256-8d4c-2c637806fe1c",
   "metadata": {
    "tags": []
   },
   "outputs": [],
   "source": [
    "fig,ax=plt.subplots(1,figsize=(10,5))\n",
    "lb=0\n",
    "lb_spec=np.array([np.abs(np.squeeze(mv_press.single_spec_linebroadening(np.squeeze(mv_press.complex_spec)[:,n],lb))) for n in range(len(vox_names))])\n",
    "\n",
    "[ax.plot(mv_press.ppm_axis,(lb_spec[n,:]-np.mean(lb_spec[n,0:150]))/np.std(lb_spec[n,0:150])-25*n,label=vox_names[n]) for n in range(len(vox_names))]\n",
    "\n",
    "ax.set_xlim([185,165])\n",
    "ax.set_xlabel(r'$\\sigma$[ppm]')\n",
    "box=ax.get_position()\n",
    "ax.set_position([box.x0, box.y0, box.width * 0.8, box.height])\n",
    "ax.legend(loc='center left',bbox_to_anchor=(1,0.5))\n"
   ]
  },
  {
   "cell_type": "markdown",
   "id": "c0879977-a114-45ae-bf03-3ae12c029b47",
   "metadata": {},
   "source": [
    "# 2. Fit spectra and extract frequencies"
   ]
  },
  {
   "cell_type": "code",
   "execution_count": null,
   "id": "afbb40a9-e12a-4964-98a5-8d802f9b530f",
   "metadata": {
    "tags": []
   },
   "outputs": [],
   "source": [
    "experiment=mv_press\n",
    "\n",
    "metabs = ['OMPD1', 'OMPD5','OMPD5-2','OMPD5-3']\n",
    "\n",
    "fit_params = {}\n",
    "\n",
    "fit_params[\"zoomfactor\"] = 1.5\n",
    "fit_params[\"max_t2_s\"] = 0.05\n",
    "fit_params[\"min_t2_s\"] = 0.01\n",
    "fit_params[\"range_t2s_s\"] = 0.02\n",
    "\n",
    "# get the indices of the peaks:\n",
    "fit_params[\"metabs\"] = metabs\n",
    "fit_params[\"fit_range_repetitions\"] = 1\n",
    "fit_params[\"range_freqs_Hz\"] = 20\n",
    "fit_params[\"cut_off\"] = 70\n",
    "fit_params[\"niter\"] = 1 # number of iterations:\n",
    "fit_params[\"npoints\"] = 21 # number of tested points per iteration:\n",
    "fit_params[\"rep_fitting\"] = 11 # number of tested points per iteration:\n",
    "fit_params[\"provided_dims\"] = [\"fid\"]\n",
    "fit_params = ut_fitting.def_fit_params(fit_params=fit_params, data_obj=experiment)\n",
    "\n",
    "cut_off_spec=np.fft.fftshift(np.fft.fft(experiment.complex_fids[fit_params[\"cut_off\"]:,:],axis=0),axes=(0,))\n",
    "peak_index_ompd1 = ut_spec.find_npeaks(input_data=np.sum(np.squeeze(cut_off_spec),axis=1),\n",
    "                              freq_range=fit_params['freq_range_ppm'],\n",
    "                              npeaks=1,\n",
    "                            plot=True)\n",
    "\n",
    "# diff literature and measured:\n",
    "measured_ompd1_freq = fit_params[\"freq_range_ppm\"][peak_index_ompd1]\n",
    "ompd1_ref_freq = 171.66\n",
    "\n",
    "diff_ompd1=measured_ompd1_freq-ompd1_ref_freq\n",
    "\n",
    "\n",
    "fit_params[\"metabs_freqs_ppm\"] = [ompd1_ref_freq,179.06,178.495,177.56]-diff_ompd1\n",
    "\n",
    "fit_params = ut_fitting.def_fit_params(fit_params=fit_params, data_obj=experiment)\n",
    "\n",
    "fit_spectrums, fit_amps, fit_freqs, fit_t2s, fit_stds  = ut_fitting.fit_data_pseudo_inv(input_data=cut_off_spec,\n",
    "                                                                             data_obj=experiment,\n",
    "                                                                  fit_params=fit_params,\n",
    "                                                              use_multiprocessing=True)\n",
    "\n",
    "fit_freqs_ppm = ut_spec.freq_Hz_to_ppm(freq_Hz=np.squeeze(fit_freqs), hz_axis=fit_params[\"freq_range_Hz\"], ppm_axis=fit_params[\"freq_range_ppm\"], ppm_axis_flipped=False)\n",
    "fit_stds_ppm = ut_spec.freq_Hz_to_ppm(freq_Hz=np.squeeze(fit_stds), hz_axis=fit_params[\"freq_range_Hz\"], ppm_axis=fit_params[\"freq_range_ppm\"], ppm_axis_flipped=False)\n"
   ]
  },
  {
   "cell_type": "markdown",
   "id": "0b21be0a-7eeb-4e0c-ba1f-25024951d26a",
   "metadata": {
    "tags": []
   },
   "source": [
    "# Determine SNR of OMPD 1 and 5 peaks"
   ]
  },
  {
   "cell_type": "code",
   "execution_count": null,
   "id": "ebdbccc7-c23a-4e56-be01-1ed6a2126361",
   "metadata": {
    "tags": []
   },
   "outputs": [],
   "source": [
    "fig,ax=plt.subplots(nvox,2,tight_layout=True,figsize=(6,10))\n",
    "noise_floor=np.ones((nvox))\n",
    "for n in range(nvox):\n",
    "    ax[n,0].plot(np.abs((np.squeeze(cut_off_spec)[:,n]-np.mean(np.abs(np.squeeze(cut_off_spec)[0:150,n])))/np.std(np.abs(np.squeeze(cut_off_spec)[0:150,n]))))\n",
    "    ax[n,0].plot(np.abs((np.squeeze(cut_off_spec)[:,n]-np.mean(np.abs(np.squeeze(cut_off_spec)[0:150,n])))/np.std(np.abs(np.squeeze(cut_off_spec)[0:150,n])))[0:150])\n",
    "    \n",
    "    noise_spec=np.abs(((np.squeeze(cut_off_spec)[:,n]-np.mean(np.abs(np.squeeze(cut_off_spec)[0:150,n])))/np.std(np.abs(np.squeeze(cut_off_spec)[0:150,n]))))[0:150]\n",
    "\n",
    "    params = rayleigh.fit(noise_spec)\n",
    "    scale = params[1]\n",
    "\n",
    "    x = np.linspace(0, max(noise_spec), 100)\n",
    "    pdf_fitted = rayleigh.pdf(x, loc=0, scale=scale)\n",
    "\n",
    "\n",
    "    ax[n,1].hist(noise_spec, bins=30, density=True, alpha=0.3, color='C0', edgecolor='black')\n",
    "    ax[n,1].plot(x, pdf_fitted, 'r-', label=f'Rayleigh fit (scale={scale:.2f})')\n",
    "    fitted_rayleigh = rayleigh(scale=scale)\n",
    "\n",
    "    mean = fitted_rayleigh.mean()\n",
    "    std_dev = fitted_rayleigh.std()\n",
    "    noise_floor[n]=mean+std_dev\n",
    "    ax[n,1].set_title(str(mean.round(1))+'±'+str(std_dev.round(1)))\n"
   ]
  },
  {
   "cell_type": "code",
   "execution_count": null,
   "id": "b1898660-9f54-448d-9847-999149c15af7",
   "metadata": {
    "tags": []
   },
   "outputs": [],
   "source": [
    "plt.close('all')\n",
    "fig,ax=plt.subplots(nvox,2,tight_layout=True,figsize=(7,5*nvox/2))\n",
    "peak_snrs=np.ones((4,nvox))*np.nan\n",
    "mean_noise=[np.mean(np.abs(np.squeeze(cut_off_spec)[0:150,n])) for n in range(len(locations))]\n",
    "std_noise=[np.std(np.abs(np.squeeze(cut_off_spec)[0:150,n])) for n in range(len(locations))]\n",
    "\n",
    "for voxel in range(nvox):\n",
    "    ax[voxel,0].plot(mv_press.get_ppm(70),np.abs(np.squeeze(cut_off_spec))[:,voxel])\n",
    "    ax[voxel,0].plot(mv_press.get_ppm(70),np.sum(np.abs(np.squeeze(fit_spectrums)[:,voxel,:]),axis=1),color='r')\n",
    "    ax[voxel,1].plot(mv_press.get_ppm(70),np.abs(np.squeeze(cut_off_spec))[:,voxel],color='k',alpha=0.3)\n",
    "\n",
    "    for peak in range(4):\n",
    "        max_peak_fit_val=np.max(np.abs(np.squeeze(fit_spectrums)[:,voxel,peak]))\n",
    "        \n",
    "        snr=np.round((max_peak_fit_val-mean_noise[voxel])/std_noise[voxel],2)\n",
    "        peak_snrs[peak,voxel]=snr\n",
    "        ax[voxel,1].plot(mv_press.get_ppm(70),np.abs(np.squeeze(fit_spectrums)[:,voxel,peak]),label=metabs[peak]+',SNR='+str(snr))\n",
    "        ax[voxel,1].set_title('Noise='+str(np.round(noise_floor[voxel],0)))\n",
    "    ax[voxel,0].set_xlim([195,155])\n",
    "    ax[voxel,1].set_xlim([195,155])\n",
    "    \n",
    "    ax[voxel,1].legend()\n",
    "    ax[voxel,0].set_title(locations[voxel])\n"
   ]
  },
  {
   "cell_type": "code",
   "execution_count": null,
   "id": "c499cab2-935c-4209-89ef-0e567659f262",
   "metadata": {
    "tags": []
   },
   "outputs": [],
   "source": [
    "fig,ax=plt.subplots(2,3,tight_layout=True,figsize=(8,5))\n",
    "for n in range(nvox):\n",
    "    nx,ny=n//3,n%3\n",
    "    for m in range(4):\n",
    "        ax[nx,ny].plot(fit_params['freq_range_ppm'],np.abs(np.squeeze(fit_spectrums)[:,n,m]),linewidth=2)\n",
    "    ax[nx,ny].plot(fit_params['freq_range_ppm'],np.abs(np.squeeze(cut_off_spec)[:,n]),color='k',alpha=0.5,linewidth=1)\n",
    "    ax[nx,ny].set_xlim([185,165])\n",
    "    ax[nx,ny].set_xticks([185,180,175,170,165])\n",
    "    ax[nx,ny].set_title(locations[n])\n"
   ]
  },
  {
   "cell_type": "markdown",
   "id": "b3882975-6748-4eb7-9861-3f1e6e9a4137",
   "metadata": {
    "tags": []
   },
   "source": [
    "# Compute frequency shifts and pH Dataframe"
   ]
  },
  {
   "cell_type": "code",
   "execution_count": null,
   "id": "abe8d19c-083e-44be-8585-7cd1c5b7d0a5",
   "metadata": {
    "tags": []
   },
   "outputs": [],
   "source": [
    "freq_diff_1=np.abs(np.squeeze(fit_freqs_ppm)[:,1]-np.squeeze(fit_freqs_ppm)[:,0])\n",
    "freq_diff_2=np.abs(np.squeeze(fit_freqs_ppm)[:,2]-np.squeeze(fit_freqs_ppm)[:,0])\n",
    "freq_diff_3=np.abs(np.squeeze(fit_freqs_ppm)[:,3]-np.squeeze(fit_freqs_ppm)[:,0])\n",
    "\n",
    "freq_diff_hz_std_1 = np.abs(np.sqrt(fit_stds[..., 1, 1]**2 +\n",
    "                           fit_stds[..., 0, 1]**2 ))\n",
    "freq_diff_hz_std_2= np.abs(np.sqrt(fit_stds[..., 2, 1]**2 +\n",
    "                           fit_stds[..., 0, 1]**2 ))\n",
    "freq_diff_hz_std_3= np.abs(np.sqrt(fit_stds[..., 3, 1]**2 +\n",
    "                           fit_stds[..., 0, 1]**2 ))\n",
    "\n",
    "\n",
    "err_freq_diff_1 = np.squeeze(ut_spec.freq_Hz_to_ppm(freq_Hz=freq_diff_hz_std_1,\n",
    "                                   hz_axis  = fit_params[\"freq_range_Hz\"],\n",
    "                                   ppm_axis = fit_params['freq_range_ppm'],\n",
    "                                   ppm_centered_at_0=True))\n",
    "\n",
    "err_freq_diff_2 = np.squeeze(ut_spec.freq_Hz_to_ppm(freq_Hz=freq_diff_hz_std_2,\n",
    "                                   hz_axis  = fit_params[\"freq_range_Hz\"],\n",
    "                                   ppm_axis = fit_params['freq_range_ppm'],\n",
    "                                   ppm_centered_at_0=True))\n",
    "err_freq_diff_3 = np.squeeze(ut_spec.freq_Hz_to_ppm(freq_Hz=freq_diff_hz_std_3,\n",
    "                                   hz_axis  = fit_params[\"freq_range_Hz\"],\n",
    "                                   ppm_axis = fit_params['freq_range_ppm'],\n",
    "                                   ppm_centered_at_0=True))\n",
    "\n",
    "ph_vals_1,ph_errors_1=ut_fitting.get_pH_from_OMPD(freq_diff_1,err_freq_diff_2)\n",
    "ph_vals_2,ph_errors_2=ut_fitting.get_pH_from_OMPD(freq_diff_2,err_freq_diff_2)\n",
    "ph_vals_3,ph_errors_3=ut_fitting.get_pH_from_OMPD(freq_diff_3,err_freq_diff_3)\n",
    "\n",
    "output_df=pd.DataFrame()\n",
    "output_df['Voxel']=locations\n",
    "output_df['pH1']=ph_vals_1\n",
    "output_df['dpH1']=ph_errors_1\n",
    "output_df['pH2']=ph_vals_2\n",
    "output_df['dpH2']=ph_errors_2\n",
    "output_df['pH3']=ph_vals_3\n",
    "output_df['dpH3']=ph_errors_3\n",
    "\n",
    "\n",
    "output_df['SNR OMPD1']=peak_snrs[0,:]\n",
    "output_df['SNR OMPD5']=peak_snrs[1,:]\n",
    "output_df['SNR OMPD5-2']=peak_snrs[2,:]\n",
    "output_df['SNR OMPD5-3']=peak_snrs[3,:]\n",
    "\n",
    "output_df['noise']=noise_floor\n",
    "animal_list=[]\n",
    "animal_num=[]\n",
    "for n in range(len(locations)):\n",
    "    animal_list.append(animal_id)\n",
    "    animal_num.append(2)\n",
    "output_df['animal']=animal_list\n",
    "output_df['num']=animal_num\n",
    "output_df2=output_df\n",
    "output_df.round(2)"
   ]
  },
  {
   "cell_type": "markdown",
   "id": "89e97537-bace-4e68-a1c9-2a9eae75c12d",
   "metadata": {},
   "source": [
    "# Anatomicals"
   ]
  },
  {
   "cell_type": "code",
   "execution_count": null,
   "id": "0812ce54-709c-4fed-90e5-d8b2f75367ed",
   "metadata": {
    "tags": []
   },
   "outputs": [],
   "source": [
    "plt.close('all')\n",
    "fig,ax=plt.subplots(2,len(vox_names),figsize=(2*len(vox_names),2*len(vox_names)))\n",
    "matplotlib.rcParams.update({\"font.size\": 11})\n",
    "for n in range(len(vox_names)):\n",
    "    Plot_Voxel_on_Anat(mv_press,coronal,ax[0,n],n,0,235,vox_color='C'+str(n))\n",
    "    ax[0,n].axis('off')\n",
    "    ax[0,n].set_title(None)\n",
    "    ax[0,n].set_xlim([12,-12])\n",
    "    ax[0,n].add_patch(Rectangle((-11,-23),5,1,fc='w'))\n",
    "    ax[0,n].text(-5.5,-21.5,'5 mm',color='w')\n",
    "    ax[0,n].text(3,21.5,vox_names[n],color='w',size='11')\n",
    "\n",
    "for n in range(len(vox_names)):\n",
    "    Plot_Voxel_on_Anat(mv_press,axial,ax[1,n],n,0,235,vox_color='C'+str(n))\n",
    "    ax[1,n].axis('off')\n",
    "    ax[1,n].set_title(None)\n",
    "    ax[1,n].set_xlim([12,-12])\n",
    "    ax[1,n].set_ylim([-13,13])\n",
    "    \n",
    "    ax[1,n].add_patch(Rectangle((-11,-12),5,1,fc='w'))\n",
    "\n",
    "\n",
    "plt.subplots_adjust(hspace=0,wspace=0.1)\n"
   ]
  }
 ],
 "metadata": {
  "kernelspec": {
   "display_name": "Python 3 (ipykernel)",
   "language": "python",
   "name": "python3"
  },
  "language_info": {
   "codemirror_mode": {
    "name": "ipython",
    "version": 3
   },
   "file_extension": ".py",
   "mimetype": "text/x-python",
   "name": "python",
   "nbconvert_exporter": "python",
   "pygments_lexer": "ipython3",
   "version": "3.9.7"
  }
 },
 "nbformat": 4,
 "nbformat_minor": 5
}
